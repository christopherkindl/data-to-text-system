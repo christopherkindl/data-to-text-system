{
 "cells": [
  {
   "cell_type": "code",
   "execution_count": 6,
   "metadata": {},
   "outputs": [],
   "source": [
    "import yfinance as yf\n",
    "import segment\n",
    "import fit\n",
    "from scipy.stats import linregress, iqr\n",
    "import numpy as np\n",
    "import pandas as pd\n",
    "import fuzzylogic\n",
    "import zadeh\n",
    "from matplotlib import pyplot as plt\n",
    "from fuzzylogic.functions import R, S, alpha, triangular, bounded_linear, trapezoid\n",
    "from fuzzylogic.classes import Domain\n",
    "from fuzzylogic.hedges import plus, minus, very\n",
    "import segment\n",
    "import wrappers\n",
    "import fit\n",
    "from matplotlib.pyplot import figure\n",
    "from timeit import default_timer as timer"
   ]
  },
  {
   "cell_type": "markdown",
   "metadata": {},
   "source": [
    "## Fuzzy Slope"
   ]
  },
  {
   "cell_type": "code",
   "execution_count": 113,
   "metadata": {},
   "outputs": [],
   "source": [
    "slope = Domain(\"slope\", -90, 90, res=0.01)\n",
    "slope.decreased_very_quickly = S(-90+30, -90+35)\n",
    "slope.decreased_quickly = trapezoid(-60, -55, -40, -35)\n",
    "slope.decreased = trapezoid(-40, -35, -15, -10)\n",
    "slope.decreased_slowly = trapezoid(-15, -10, -5, 0)\n",
    "slope.stable = triangular(-1, 1)\n",
    "slope.increased_slowly = trapezoid(0, 5, 10, 15)\n",
    "slope.increased = trapezoid(10, 15, 35, 40)\n",
    "slope.increased_quickly = trapezoid(35, 40, 55, 60)\n",
    "slope.increased_very_quickly = R(90-35, 90-30)"
   ]
  },
  {
   "cell_type": "code",
   "execution_count": 114,
   "metadata": {},
   "outputs": [
    {
     "data": {
      "image/png": "[encoded data removed]",
      "text/plain": [
       "<Figure size 432x288 with 1 Axes>"
      ]
     },
     "metadata": {
      "needs_background": "light"
     },
     "output_type": "display_data"
    }
   ],
   "source": [
    "slope.decreased_very_quickly.plot()\n",
    "slope.decreased_quickly.plot()\n",
    "slope.decreased.plot()\n",
    "slope.decreased_slowly.plot()\n",
    "slope.stable.plot()\n",
    "slope.increased_slowly.plot()\n",
    "slope.increased.plot()\n",
    "slope.increased_quickly.plot()\n",
    "slope.increased_very_quickly.plot()"
   ]
  },
  {
   "cell_type": "code",
   "execution_count": 730,
   "metadata": {},
   "outputs": [],
   "source": [
    "def fuzzy_slope(series):\n",
    "    \n",
    "    total_sum = {'quickly decreasing' : [],\n",
    "                 'decreasing' : [],\n",
    "                 'slowly decreasing' : [],\n",
    "                 'constant' : [],\n",
    "                 'slowly increasing' : [],\n",
    "                 'increasing' : [],\n",
    "                 'quickly increasing' : []}\n",
    "    \n",
    "    indexes = {'quickly decreasing' : [],\n",
    "               'decreasing' : [],\n",
    "               'slowly decreasing' : [],\n",
    "               'constant' : [],\n",
    "               'slowly increasing' : [],\n",
    "               'increasing' : [],\n",
    "               'quickly increasing' : []}\n",
    "\n",
    "    for index, i in enumerate(series):\n",
    "        total_sum['quickly decreasing'].append(round(slope.quickly_decreasing(i), 2))\n",
    "        if round(slope.quickly_decreasing(i), 2) > 0:\n",
    "            indexes['quickly decreasing'].append(index)\n",
    "            \n",
    "        total_sum['decreasing'].append(round(slope.decreasing(i), 2))\n",
    "        if round(slope.decreasing(i), 2) > 0:\n",
    "            indexes['decreasing'].append(index)\n",
    "        \n",
    "        total_sum['slowly decreasing'].append(round(slope.slowly_decreasing(i), 2))\n",
    "        if round(slope.slowly_decreasing(i), 2) > 0:\n",
    "            indexes['slowly decreasing'].append(index)\n",
    "        \n",
    "        total_sum['constant'].append(round(slope.constant(i), 2))\n",
    "        if round(slope.constant(i), 2) > 0:\n",
    "            indexes['constant'].append(index)\n",
    "            \n",
    "        total_sum['slowly increasing'].append(round(slope.slowly_increasing(i), 2))\n",
    "        if round(slope.slowly_increasing(i), 2) > 0:\n",
    "            indexes['slowly increasing'].append(index)\n",
    "            \n",
    "        total_sum['increasing'].append(round(slope.increasing(i), 2))\n",
    "        if round(slope.increasing(i), 2) > 0:\n",
    "            indexes['increasing'].append(index)\n",
    "            \n",
    "        total_sum['quickly increasing'].append(round(slope.quickly_increasing(i), 2))\n",
    "        if round(slope.quickly_increasing(i), 2) > 0:\n",
    "            indexes['quickly increasing'].append(index)\n",
    "        \n",
    "    number_of_segments = len(series)\n",
    "    \n",
    "    # calculate truth value\n",
    "    n = 0\n",
    "    \n",
    "    for i in total_sum.get(max(total_sum, key = lambda x: sum(total_sum.get(x)))):\n",
    "        if i != 0:\n",
    "            n += i\n",
    "            \n",
    "    # calculate quantifier\n",
    "    q = 0\n",
    "    \n",
    "    for i in total_sum.get(max(total_sum, key = lambda x: sum(total_sum.get(x)))):\n",
    "        if i != 0:\n",
    "            q += 1\n",
    "    \n",
    "    \n",
    "    \n",
    "    value = round((q / len(series)), 2)\n",
    "    \n",
    "    quantifier_value = quantifier(value)\n",
    "    \n",
    "    return max(total_sum, key = lambda x: sum(total_sum.get(x))), round(sum(total_sum.get(max(total_sum, key = lambda x: sum(total_sum.get(x))))), 2), round((n/number_of_segments), 2), indexes.get(max(total_sum, key = lambda x: sum(total_sum.get(x)))), quantifier_value"
   ]
  },
  {
   "cell_type": "code",
   "execution_count": null,
   "metadata": {},
   "outputs": [],
   "source": [
    "fuzzy_slope()"
   ]
  },
  {
   "cell_type": "markdown",
   "metadata": {},
   "source": [
    "## Fuzzy Duration"
   ]
  },
  {
   "cell_type": "code",
   "execution_count": 3,
   "metadata": {},
   "outputs": [],
   "source": [
    "duration = Domain(\"duration\", 0, 180, res=0.01)\n",
    "duration.very_short = S(0+7, 0+14)\n",
    "duration.short = trapezoid(7, 14, 35, 42)\n",
    "duration.medium = trapezoid(35, 42, 42+21, 42+28)\n",
    "duration.long = trapezoid(63, 70, 70+21, 70+28)\n",
    "duration.very_long = R(91, 98)"
   ]
  },
  {
   "cell_type": "code",
   "execution_count": 47,
   "metadata": {
    "scrolled": true
   },
   "outputs": [
    {
     "data": {
      "image/png": "[encoded data removed]",
      "text/plain": [
       "<Figure size 432x288 with 1 Axes>"
      ]
     },
     "metadata": {
      "needs_background": "light"
     },
     "output_type": "display_data"
    }
   ],
   "source": [
    "duration = Domain(\"duration\", 0, 180, res=0.01)\n",
    "duration.very_short = S(0+7, 0+14)\n",
    "duration.short = trapezoid(7, 14, 35, 42)\n",
    "duration.medium = trapezoid(35, 42, 42+21, 42+28)\n",
    "duration.long = trapezoid(63, 70, 70+21, 70+28)\n",
    "duration.very_long = R(91, 98)\n",
    "duration.very_short.plot()\n",
    "duration.short.plot()\n",
    "duration.medium.plot()\n",
    "duration.long.plot()\n",
    "duration.very_long.plot()\n",
    "\n",
    "# segment length / sum of total length"
   ]
  },
  {
   "cell_type": "code",
   "execution_count": 412,
   "metadata": {},
   "outputs": [],
   "source": [
    "def fuzzy_duration(series):\n",
    "    \n",
    "    total_sum = {'very short' : [],\n",
    "                 'short' : [],\n",
    "                 'medium' : [],\n",
    "                 'long' : [],\n",
    "                 'very long' : []}\n",
    "\n",
    "    for i in series:\n",
    "        total_sum['very short'].append(round(duration.very_short(i), 2))\n",
    "        total_sum['short'].append(round(duration.short(i), 2))\n",
    "        total_sum['medium'].append(round(duration.medium(i), 2))\n",
    "        total_sum['long'].append(round(duration.long(i), 2))\n",
    "        total_sum['very long'].append(round(duration.very_long(i), 2))\n",
    "        \n",
    "        \n",
    "    number_of_segments = len(series)\n",
    "    \n",
    "    n = 0\n",
    "    \n",
    "    for i in total_sum.get(max(total_sum, key = lambda x: sum(total_sum.get(x)))):\n",
    "        if i != 0:\n",
    "            n += i\n",
    "    \n",
    "    return max(total_sum, key = lambda x: sum(total_sum.get(x))), sum(total_sum.get(max(total_sum, key = lambda x: sum(total_sum.get(x)))))"
   ]
  },
  {
   "cell_type": "markdown",
   "metadata": {},
   "source": [
    "## Fuzzy Variability"
   ]
  },
  {
   "cell_type": "code",
   "execution_count": 4,
   "metadata": {},
   "outputs": [],
   "source": [
    "variability = Domain(\"variability\", 0, 1, res=0.01)\n",
    "variability.very_high = R(0.75, 4/5)\n",
    "variability.high = trapezoid(0.55, 3/5, 0.75, 4/5)\n",
    "variability.medium = trapezoid(0.35, 2/5, 0.55, 3/5)\n",
    "variability.low = trapezoid(0.15, 1/5, 0.35, 2/5)\n",
    "variability.very_low = S(0.15, 1/5)"
   ]
  },
  {
   "cell_type": "code",
   "execution_count": 416,
   "metadata": {},
   "outputs": [
    {
     "data": {
      "image/png": "[encoded data removed]",
      "text/plain": [
       "<Figure size 432x288 with 1 Axes>"
      ]
     },
     "metadata": {
      "needs_background": "light"
     },
     "output_type": "display_data"
    }
   ],
   "source": [
    "variability = Domain(\"variability\", 0, 1, res=0.01)\n",
    "variability.very_high = R(0.75, 4/5)\n",
    "variability.high = trapezoid(0.55, 3/5, 0.75, 4/5)\n",
    "variability.medium = trapezoid(0.35, 2/5, 0.55, 3/5)\n",
    "variability.low = trapezoid(0.15, 1/5, 0.35, 2/5)\n",
    "variability.very_low = S(0.15, 1/5)\n",
    "\n",
    "#plot\n",
    "variability.very_high.plot()\n",
    "variability.high.plot()\n",
    "variability.medium.plot()\n",
    "variability.low.plot()\n",
    "variability.very_low.plot()"
   ]
  },
  {
   "cell_type": "code",
   "execution_count": 414,
   "metadata": {},
   "outputs": [],
   "source": [
    "def fuzzy_variability(series):\n",
    "    \n",
    "    total_sum = {'very high' : [],\n",
    "                 'high' : [],\n",
    "                 'medium' : [],\n",
    "                 'low' : [],\n",
    "                 'very low' : []}\n",
    "    \n",
    "    \n",
    "    for i in series:\n",
    "        total_sum['very high'].append(round(variability.very_high(i), 2))\n",
    "        total_sum['high'].append(round(variability.high(i), 2))\n",
    "        total_sum['medium'].append(round(variability.medium(i), 2))\n",
    "        total_sum['low'].append(round(variability.low(i), 2))\n",
    "        total_sum['very low'].append(round(variability.very_low(i), 2))\n",
    "        \n",
    "        \n",
    "    number_of_segments = len(series)\n",
    "    \n",
    "    n = 0\n",
    "    \n",
    "    for i in total_sum.get(max(total_sum, key = lambda x: sum(total_sum.get(x)))):\n",
    "        if i != 0:\n",
    "            n += i\n",
    "    \n",
    "    return max(total_sum, key = lambda x: sum(total_sum.get(x))), sum(total_sum.get(max(total_sum, key = lambda x: sum(total_sum.get(x)))))\n",
    "    \n",
    "    \n"
   ]
  },
  {
   "cell_type": "code",
   "execution_count": 764,
   "metadata": {},
   "outputs": [],
   "source": [
    "def quantifier(value):\n",
    "    \n",
    "    quantifier = {\n",
    "    'almost all of ' : 0,\n",
    "    'most of ' : 0,\n",
    "    'at least a half of ' : 0,\n",
    "    'at least a third of ' : 0,\n",
    "    'some of ' : 0,\n",
    "    'none of ' : 0\n",
    "    }\n",
    "\n",
    "    if value >= 0.85:\n",
    "        quantifier['almost all of '] += 1\n",
    "    if value >= 0.7:\n",
    "        quantifier['most of '] += 1\n",
    "    if value >= 0.5:\n",
    "        quantifier['at least a half of '] += 1\n",
    "    if value >= 0.3:\n",
    "        quantifier['at least a third of '] += 1\n",
    "    if value > 0:\n",
    "        quantifier['some of '] += 1\n",
    "    if value == 0:\n",
    "        quantifier['none of '] += 1\n",
    "\n",
    "    quantifier_value = max(quantifier, key = quantifier.get)\n",
    "\n",
    "    return quantifier_value"
   ]
  },
  {
   "cell_type": "code",
   "execution_count": 52,
   "metadata": {},
   "outputs": [],
   "source": [
    "def summary_L1(series, fuzzy_func, quantifier):\n",
    "    \n",
    "    elementA0 = '{{quantifier_related_to_first_variable}}'\n",
    "    elementA1 = 'trends are '\n",
    "    elementA2 = '{{slope_variable}}'\n",
    "    elementA3 = '.'\n",
    "    \n",
    "    fuzzy = fuzzy_func(series)[2]\n",
    "    elementA0 = quantifier(fuzzy)\n",
    "    elementA2 = fuzzy_func(series)[0]\n",
    "    \n",
    "    sentence = elementA0 + elementA1 + elementA2 + elementA3\n",
    "    \n",
    "    return sentence"
   ]
  },
  {
   "cell_type": "code",
   "execution_count": 2,
   "metadata": {},
   "outputs": [],
   "source": [
    "def preprocessing(stock_name='TSLA', period='max'):\n",
    "    \n",
    "    '''\n",
    "    1. Input stock name.\n",
    "    2. Return historical prices and currency of stock.\n",
    "    '''\n",
    "\n",
    "    # get stock data\n",
    "    hist = yf.Ticker(stock_name)\n",
    "\n",
    "    # get historical market data\n",
    "    df = hist.history(period)\n",
    "    \n",
    "    currency = hist.info['currency']\n",
    "\n",
    "    series = list(round(df['Open'], 4))\n",
    "\n",
    "    return series, currency, df"
   ]
  },
  {
   "cell_type": "code",
   "execution_count": 5,
   "metadata": {},
   "outputs": [],
   "source": [
    "def suffix(d):\n",
    "    return 'th' if 11<=d<=13 else {1:'st',2:'nd',3:'rd'}.get(d%10, 'th')\n",
    "\n",
    "def custom_strftime(t):\n",
    "    \n",
    "    format = '%B {S} %Y'\n",
    "    string_date = t.strftime(format).replace('{S}', str(t.day) + suffix(t.day))\n",
    "    \n",
    "    return string_date"
   ]
  },
  {
   "cell_type": "code",
   "execution_count": 6,
   "metadata": {},
   "outputs": [],
   "source": [
    "def max_price(df):\n",
    "    \n",
    "    max_value = 0 \n",
    "    index = None\n",
    "    \n",
    "\n",
    "    for i, value in enumerate(df['Open']):\n",
    "        if value > max_value:\n",
    "            max_value = round(value, 2)\n",
    "            index = df.Open.index[i].date()\n",
    "            string_date = custom_strftime(index)\n",
    "\n",
    "    return max_value, string_date"
   ]
  },
  {
   "cell_type": "code",
   "execution_count": 7,
   "metadata": {},
   "outputs": [],
   "source": [
    "def min_price(df):\n",
    "    \n",
    "    min_value = 999999 \n",
    "    index = 0\n",
    "\n",
    "    for i, value in enumerate(df['Open']):\n",
    "        if value < min_value:\n",
    "            min_value = round(value, 2)\n",
    "            index = df.Open.index[i].date()\n",
    "            string_date = custom_strftime(index)\n",
    "\n",
    "    return min_value, string_date"
   ]
  },
  {
   "cell_type": "code",
   "execution_count": 8,
   "metadata": {},
   "outputs": [],
   "source": [
    "def min_date(df):\n",
    "    \n",
    "    date = custom_strftime(df.index.min())\n",
    "\n",
    "    return date"
   ]
  },
  {
   "cell_type": "code",
   "execution_count": 9,
   "metadata": {},
   "outputs": [],
   "source": [
    "def max_date(df):\n",
    "    \n",
    "    date = custom_strftime(df.index.max())\n",
    "\n",
    "    return date"
   ]
  },
  {
   "cell_type": "code",
   "execution_count": 10,
   "metadata": {},
   "outputs": [],
   "source": [
    "def summary_price(df):\n",
    "    \n",
    "    opening = 'During the time period of '\n",
    "    mindate = min_date(df)\n",
    "    maxdate = max_date(df)\n",
    "    glue = ' and '\n",
    "    date_element = ' the stock price peaked at '\n",
    "    max_value = max_price(df)[0]\n",
    "    glue_2 = ' on '\n",
    "    date_1 = max_price(df)[1]\n",
    "    glue_3 = ' and hit its lowest value of '\n",
    "    min_value = min_price(df)[0]\n",
    "    glue_4 = ' on '\n",
    "    date_2 = min_price(df)[1]\n",
    "    eos = '.'\n",
    "    \n",
    "    sentence0 = opening + mindate + glue + maxdate + date_element + str(max_value) + glue_2 + date_1 + glue_3 \\\n",
    "                + str(min_value) + glue_4 + date_2 + eos\n",
    "    \n",
    "    return sentence0"
   ]
  },
  {
   "cell_type": "markdown",
   "metadata": {},
   "source": [
    "## Segmentation"
   ]
  },
  {
   "cell_type": "code",
   "execution_count": 18,
   "metadata": {},
   "outputs": [],
   "source": [
    "start_date = '2010-06-30'\n",
    "end_date = '2021-06-17'\n",
    "max_error = 100\n",
    "\n",
    "def segment_detection(df, start_date, end_date, max_error):\n",
    "    \n",
    "    start = df.index.get_loc(start_date)\n",
    "    end = df.index.get_loc(end_date)\n",
    "    data = list(round(df.Close, 2))\n",
    "    segments = segment.bottomupsegment(data[start:end], fit.interpolate, fit.sumsquared_error, max_error)\n",
    "    \n",
    "    return segments, data[start:end]"
   ]
  },
  {
   "cell_type": "code",
   "execution_count": 21,
   "metadata": {},
   "outputs": [],
   "source": [
    "df = preprocessing()[2]"
   ]
  },
  {
   "cell_type": "code",
   "execution_count": 67,
   "metadata": {},
   "outputs": [
    {
     "name": "stderr",
     "output_type": "stream",
     "text": [
      "/Users/christopherkindl/working/nlp-dissertation/06_time_series_analysis/wrappers.py:10: FutureWarning: `rcond` parameter will change to the default of machine precision times ``max(M, N)`` where M and N are the input matrix dimensions.\n",
      "To use the future default and silence this warning we advise to pass `rcond=None`, to keep using the old, explicitly pass `rcond=-1`.\n",
      "  (p,residuals,rank,s) = lstsq(A,y)\n"
     ]
    },
    {
     "name": "stdout",
     "output_type": "stream",
     "text": [
      "168\n"
     ]
    }
   ],
   "source": [
    "segments, data = segment_detection(df, start_date, end_date, max_error)"
   ]
  },
  {
   "cell_type": "markdown",
   "metadata": {},
   "source": [
    "## Evaluation functions"
   ]
  },
  {
   "cell_type": "markdown",
   "metadata": {},
   "source": [
    "**Level 1**"
   ]
  },
  {
   "cell_type": "code",
   "execution_count": 652,
   "metadata": {},
   "outputs": [
    {
     "data": {
      "text/plain": [
       "117"
      ]
     },
     "execution_count": 652,
     "metadata": {},
     "output_type": "execute_result"
    }
   ],
   "source": [
    "len(segments[0])"
   ]
  },
  {
   "cell_type": "code",
   "execution_count": 11,
   "metadata": {},
   "outputs": [],
   "source": [
    "def calc_duration(segments, filtering):\n",
    "    '''\n",
    "    1. Input segment series.\n",
    "    2. Return segment-specific duration.\n",
    "    '''\n",
    "    duration_series = []\n",
    "    for i in range(len(segments)):\n",
    "        if i in filtering:\n",
    "            start, _, end, _ = segments[i]\n",
    "            length = end-start\n",
    "            duration_series.append(length)\n",
    "            \n",
    "    return duration_series"
   ]
  },
  {
   "cell_type": "code",
   "execution_count": 12,
   "metadata": {},
   "outputs": [],
   "source": [
    "def calc_slope(segments):\n",
    "    '''\n",
    "    1. Input segment series.\n",
    "    2. Return angle of slope.\n",
    "    '''\n",
    "    slope_series = []\n",
    "    for segment in segments:\n",
    "        x0, y0, x1, y1 = segment\n",
    "        angle = round((np.rad2deg(np.arctan2(y1 - y0, x1 - x0))), 2)\n",
    "        slope_series.append(angle)\n",
    "        \n",
    "    return slope_series"
   ]
  },
  {
   "cell_type": "code",
   "execution_count": 13,
   "metadata": {},
   "outputs": [],
   "source": [
    "def calc_variability(data, segments, filtering):\n",
    "    '''\n",
    "    1. Input value range as array.\n",
    "    2. Return interquartile range.\n",
    "    '''\n",
    "    variability_series = []\n",
    "\n",
    "    for i in range(len(segments)):\n",
    "        if i in filtering:\n",
    "            start, _, end, _ = segments[i]\n",
    "            x = np.array(data[start:end+1])\n",
    "            #segment_iqr = round(iqr(x), 4)\n",
    "            segment_sd = np.std(x)\n",
    "            segment_avg = np.average(x)\n",
    "            coefficient_of_variance = round((segment_sd / segment_avg), 2)\n",
    "            variability_series.append(coefficient_of_variance)\n",
    "            \n",
    "    return variability_series"
   ]
  },
  {
   "cell_type": "markdown",
   "metadata": {},
   "source": [
    "**Level 2**"
   ]
  },
  {
   "cell_type": "code",
   "execution_count": 14,
   "metadata": {},
   "outputs": [],
   "source": [
    "def calc_duration_L2(segments, filtering):\n",
    "    '''\n",
    "    1. Input segment series.\n",
    "    2. Return segment-specific duration.\n",
    "    '''\n",
    "    duration_series = []\n",
    "    for i in range(len(segments)):\n",
    "        if i not in filtering:\n",
    "            start, _, end, _ = segments[i]\n",
    "            length = end-start\n",
    "            duration_series.append(length)\n",
    "            \n",
    "    return duration_series"
   ]
  },
  {
   "cell_type": "code",
   "execution_count": 15,
   "metadata": {},
   "outputs": [],
   "source": [
    "def calc_slope_L2(segments, filtering):\n",
    "    '''\n",
    "    1. Input segment series.\n",
    "    2. Return angle of slope.\n",
    "    '''\n",
    "    slope_series = []\n",
    "    for i in range(len(segments)):\n",
    "        if i not in filtering:\n",
    "            x0, y0, x1, y1 = segments[i]\n",
    "            angle = round((np.rad2deg(np.arctan2(y1 - y0, x1 - x0))), 2)\n",
    "            slope_series.append(angle)\n",
    "        \n",
    "    return slope_series"
   ]
  },
  {
   "cell_type": "code",
   "execution_count": 16,
   "metadata": {},
   "outputs": [],
   "source": [
    "def calc_variability_L2(data, segments, filtering):\n",
    "    '''\n",
    "    1. Input value range as array.\n",
    "    2. Return interquartile range.\n",
    "    '''\n",
    "    variability_series = []\n",
    "\n",
    "    for i in range(len(segments)):\n",
    "        if i not in filtering:\n",
    "            start, _, end, _ = segments[i]\n",
    "            x = np.array(data[start:end+1])\n",
    "            #segment_iqr = round(iqr(x), 4)\n",
    "            segment_sd = np.std(x)\n",
    "            segment_avg = np.average(x)\n",
    "            coefficient_of_variance = round((segment_sd / segment_avg), 2)\n",
    "            variability_series.append(coefficient_of_variance)\n",
    "            \n",
    "    return variability_series"
   ]
  },
  {
   "cell_type": "code",
   "execution_count": 74,
   "metadata": {},
   "outputs": [],
   "source": [
    "#def summary_L2(eval_funcL1, eval_funcL2, eval_funcL3, fuzzy_funcL1, fuzzy_funcL2, fuzzy_funcL3, segments, data):\n",
    "#    \n",
    "#    # run first evaluation function\n",
    "#    series = eval_funcL1(segments)\n",
    "#    \n",
    "#    # returns indexes of first evaluation function based on output above\n",
    "#    filtered_series = fuzzy_funcL1(series)[3]\n",
    "#    \n",
    "#    element1 = fuzzy_funcL1(series)[0]\n",
    "#    element2 = ' trends are '\n",
    "#    element3 = 'VARIABLE1'\n",
    "#    element4 = ' and '\n",
    "#    element5 = 'VARIABLE2'\n",
    "#    element6 = ' variability'\n",
    "#    eos = '.'\n",
    "#    \n",
    "#    # evaluate variable 1\n",
    "#    series_preprocessed = eval_funcL2(segments, filtered_series)\n",
    "#    element3 = fuzzy_funcL2(series_preprocessed)[0]\n",
    "#    \n",
    "#    # evaluate variable 2\n",
    "#    series_preprocessed = eval_funcL3(data, segments, filtered_series)\n",
    "#    element5 = fuzzy_funcL3(series_preprocessed)[0]\n",
    "#    \n",
    "#    sentence = element1 + element2 + element3 + element4 + element5 + element6 + eos\n",
    "#    \n",
    "#    return sentence"
   ]
  },
  {
   "cell_type": "markdown",
   "metadata": {},
   "source": [
    "## Chronological Summaries"
   ]
  },
  {
   "cell_type": "code",
   "execution_count": 1025,
   "metadata": {},
   "outputs": [],
   "source": [
    "def flatten_list(segments):\n",
    "    flat_list = []\n",
    "    curr_idx = 0\n",
    "    count = 0\n",
    "    for sublist in segments:\n",
    "        for segment in sublist:\n",
    "            start, val_start, end, val_end = segment\n",
    "            flat_list.append((curr_idx, val_start, curr_idx+(end-start), val_end))\n",
    "            curr_idx += (end-start)\n",
    "        curr_idx += 1\n",
    "    return flat_list"
   ]
  },
  {
   "cell_type": "code",
   "execution_count": null,
   "metadata": {},
   "outputs": [],
   "source": [
    "# --- PART 0 ---\n",
    "tuple_series = columns_to_tuples(df.index.date, df['Close'])"
   ]
  },
  {
   "cell_type": "code",
   "execution_count": 122,
   "metadata": {},
   "outputs": [],
   "source": [
    "def length_of_df(df):\n",
    "    \n",
    "    length = len(df)\n",
    "    \n",
    "    if length >= 7 and length < 60:\n",
    "        segment_range = 7\n",
    "    if length >= 60 and length < 180:\n",
    "        segment_range = 30\n",
    "    if length >= 180 and length < 365:\n",
    "        segment_range = 90\n",
    "    if length >= 365:\n",
    "        segment_range = 365\n",
    "    \n",
    "    return segment_range"
   ]
  },
  {
   "cell_type": "code",
   "execution_count": 926,
   "metadata": {},
   "outputs": [],
   "source": [
    "segment_range = length_of_df(df)"
   ]
  },
  {
   "cell_type": "code",
   "execution_count": 929,
   "metadata": {},
   "outputs": [],
   "source": [
    "tuple_series = segment_divider_tuples(tuple_series, 365)"
   ]
  },
  {
   "cell_type": "code",
   "execution_count": 179,
   "metadata": {},
   "outputs": [],
   "source": [
    "# transform to function\n",
    "# integrate tuples\n",
    "\n",
    "# ---- PART 1 ------\n",
    "\n",
    "def segment_divider_tuples(tuple_series, segment_range):\n",
    "    day_counter = segment_range\n",
    "\n",
    "    tuple_sublist = [[]]\n",
    "\n",
    "    for date, i in tuple_series:\n",
    "        tuple_sublist[-1].append((date, i))\n",
    "        day_counter -= 1\n",
    "        if day_counter == 0:\n",
    "            tuple_sublist.append([])\n",
    "            day_counter = segment_range\n",
    "    \n",
    "    return tuple_sublist"
   ]
  },
  {
   "cell_type": "code",
   "execution_count": 129,
   "metadata": {},
   "outputs": [],
   "source": [
    "def segment_divider(series, segment_range):\n",
    "    day_counter = segment_range\n",
    "\n",
    "    sublist = [[]]\n",
    "\n",
    "    for i in series:\n",
    "        sublist[-1].append(i)\n",
    "        day_counter -= 1\n",
    "        if day_counter == 0:\n",
    "            sublist.append([])\n",
    "            day_counter = segment_range\n",
    "    \n",
    "    return sublist"
   ]
  },
  {
   "cell_type": "code",
   "execution_count": 618,
   "metadata": {},
   "outputs": [],
   "source": [
    "# --- PART 2 ---\n",
    "\n",
    "def list_transformation(tuple_series):\n",
    "    \n",
    "    # retrieve only numeric values of tuple series\n",
    "    series = []\n",
    "    \n",
    "    for lis in tuple_series:\n",
    "        series.append([])\n",
    "        for value in lis:\n",
    "            series[-1].append(value[-1])\n",
    "            \n",
    "    return series"
   ]
  },
  {
   "cell_type": "code",
   "execution_count": 626,
   "metadata": {},
   "outputs": [],
   "source": [
    "# --- PART 3 ---\n",
    "\n",
    "def get_segmentation(list_of_lists):\n",
    "    \n",
    "    # get segments \n",
    "    segments = []\n",
    "\n",
    "    for subsegment in list_of_lists:\n",
    "        #print(series)\n",
    "        segments.append(segment.bottomupsegment(subsegment, fit.interpolate, fit.sumsquared_error, max_error))\n",
    "        \n",
    "    return segments"
   ]
  },
  {
   "cell_type": "code",
   "execution_count": null,
   "metadata": {},
   "outputs": [],
   "source": [
    "def calc_slope_L2(segments, filtering):\n",
    "    '''\n",
    "    1. Input segment series.\n",
    "    2. Return angle of slope.\n",
    "    '''\n",
    "    slope_series = []\n",
    "    for i in range(len(segments)):\n",
    "        if i not in filtering:\n",
    "            x0, y0, x1, y1 = segments[i]\n",
    "            angle = round((np.rad2deg(np.arctan2(y1 - y0, x1 - x0))), 2)\n",
    "            slope_series.append(angle)\n",
    "        \n",
    "    return slope_series"
   ]
  },
  {
   "cell_type": "code",
   "execution_count": 896,
   "metadata": {},
   "outputs": [],
   "source": [
    "# --- PART 4 ---\n",
    "\n",
    "\n",
    "def subsegment_calculation(data, segments):\n",
    "    \"\"\"\n",
    "    1. Data = see output above\n",
    "    \"\"\"\n",
    "    \n",
    "    # ---------------\n",
    "    # LEVEL 1\n",
    "    # ---------------\n",
    "    \n",
    "    # calculate slope \n",
    "    subsegment_calculations_slope = []\n",
    "\n",
    "    for subsegment in segments:\n",
    "        subsegment_calculations_slope.append(calc_slope(subsegment))\n",
    "        \n",
    "    subsegment_variables_slope = []\n",
    "    filter_list = []\n",
    "    \n",
    "    for subsegment in subsegment_calculations_slope:\n",
    "        subsegment_variables_slope.append(fuzzy_slope(subsegment))\n",
    "        filter_list.append(fuzzy_slope(subsegment)[3])\n",
    "        \n",
    " \n",
    "    # calculate duration\n",
    "    subsegment_calculations_duration = []\n",
    "    \n",
    "    for i in range(len(segments)):\n",
    "        subsegment_calculations_duration.append(calc_duration(segments[i], filter_list[i]))\n",
    "    \n",
    "    subsegment_variables_duration = []\n",
    "    \n",
    "    for subsegment in subsegment_calculations_duration:\n",
    "        subsegment_variables_duration.append(fuzzy_duration(subsegment))\n",
    "       \n",
    "        \n",
    "    # calculate variability\n",
    "    subsegment_calculations_variability = []\n",
    "    \n",
    "    for i in range(len(data)):\n",
    "        subsegment_calculations_variability.append(calc_variability(data[i], segments[i], filter_list[i]))\n",
    "    \n",
    "    subsegment_variables_variability = []\n",
    "\n",
    "    for subsegment in subsegment_calculations_variability:\n",
    "        subsegment_variables_variability.append(fuzzy_variability(subsegment))\n",
    "        \n",
    "    \n",
    "    # ---------------\n",
    "    # LEVEL 2\n",
    "    # ---------------\n",
    "    \n",
    "    \n",
    "    # calculate slope\n",
    "    \n",
    "    subsegment_calculations_slope_L2 = []\n",
    "\n",
    "    for i in range(len(segments)):\n",
    "        subsegment_calculations_slope_L2.append(calc_slope_L2(segments[i], filter_list[i]))\n",
    "        \n",
    "    subsegment_variables_slope_L2 = []\n",
    "    \n",
    "    for i in range(len(segments)):\n",
    "    #for subsegment in subsegment_calculations_slope_L2:\n",
    "        if len(subsegment_calculations_slope_L2[i]) != 0:\n",
    "            #print(subsegment)\n",
    "            subsegment_variables_slope_L2.append(fuzzy_slope(subsegment_calculations_slope_L2[i]))\n",
    "            filter_list[i] += fuzzy_slope(subsegment_calculations_slope_L2[i])[3]\n",
    "            \n",
    "       \n",
    "            \n",
    "    # calculate duration\n",
    "    \n",
    "    subsegment_calculations_duration_L2 = []\n",
    "    \n",
    "    for i in range(len(segments)):\n",
    "        subsegment_calculations_duration_L2.append(calc_duration_L2(segments[i], filter_list[i]))\n",
    "    \n",
    "    subsegment_variables_duration_L2 = []\n",
    "    \n",
    "    for subsegment in subsegment_calculations_slope_L2:\n",
    "        if len(subsegment) != 0:\n",
    "            subsegment_variables_duration_L2.append(fuzzy_duration(subsegment))\n",
    "            \n",
    "        \n",
    "    # calculate variability\n",
    "    subsegment_calculations_variability_L2 = []\n",
    "    \n",
    "    for i in range(len(data)):\n",
    "        subsegment_calculations_variability_L2.append(calc_variability_L2(data[i], segments[i], filter_list[i]))\n",
    "    \n",
    "    subsegment_variables_variability_L2 = []\n",
    "    \n",
    "    for subsegment in subsegment_calculations_variability_L2:\n",
    "        if len(subsegment) != 0:\n",
    "            subsegment_variables_variability_L2.append(fuzzy_variability(subsegment))\n",
    "    \n",
    "\n",
    "    # evaluate quantifier\n",
    "    quantifiers = []\n",
    "    values = []\n",
    "\n",
    "    for i in range(len(subsegment_calculations_slope_L2)):\n",
    "        values.append(round((len(subsegment_variables_slope_L2[i][3])/len(subsegment_calculations_slope[i])), 2))\n",
    "        quantifiers.append(quantifier(round((len(subsegment_variables_slope_L2[i][3])/len(subsegment_calculations_slope[i])), 2)))\n",
    "        \n",
    "    \n",
    "    # ---------------\n",
    "    # LEVEL 3\n",
    "    # ---------------\n",
    "    \n",
    "    # calculate slope\n",
    "    \n",
    "    \n",
    "    subsegment_calculations_slope_L3 = []\n",
    "\n",
    "    for i in range(len(segments)):\n",
    "        subsegment_calculations_slope_L3.append(calc_slope_L2(segments[i], filter_list[i]))\n",
    "        \n",
    "    subsegment_variables_slope_L3 = []\n",
    "    \n",
    "    for i in range(len(segments)):\n",
    "    #for subsegment in subsegment_calculations_slope_L2:\n",
    "        if len(subsegment_calculations_slope_L3[i]) != 0:\n",
    "            #print(subsegment)\n",
    "            subsegment_variables_slope_L3.append(fuzzy_slope(subsegment_calculations_slope_L3[i]))\n",
    "            #filter_list[i].append(fuzzy_slope(subsegment_calculations_slope_L3[i])[3])\n",
    "            \n",
    "    # calculate duration\n",
    "    \n",
    "    subsegment_calculations_duration_L3 = []\n",
    "    \n",
    "    for i in range(len(segments)):\n",
    "        subsegment_calculations_duration_L3.append(calc_duration_L2(segments[i], filter_list[i]))\n",
    "    \n",
    "    subsegment_variables_duration_L3 = []\n",
    "    \n",
    "    for subsegment in subsegment_calculations_slope_L3:\n",
    "        if len(subsegment) != 0:\n",
    "            subsegment_variables_duration_L3.append(fuzzy_duration(subsegment))\n",
    "            \n",
    "        \n",
    "    # calculate variability\n",
    "    subsegment_calculations_variability_L3 = []\n",
    "    \n",
    "    for i in range(len(data)):\n",
    "        subsegment_calculations_variability_L3.append(calc_variability_L2(data[i], segments[i], filter_list[i]))\n",
    "    \n",
    "    subsegment_variables_variability_L3 = []\n",
    "    \n",
    "    for subsegment in subsegment_calculations_variability_L3:\n",
    "        if len(subsegment) != 0:\n",
    "            subsegment_variables_variability_L3.append(fuzzy_variability(subsegment))\n",
    "            \n",
    "    # evaluate quantifier\n",
    "    quantifiers_L3 = []\n",
    "    values_L3 = []\n",
    "\n",
    "    for i in range(len(subsegment_calculations_slope_L3)):\n",
    "        values_L3.append(round((len(subsegment_variables_slope_L3[i][3])/len(subsegment_calculations_slope[i])), 2))\n",
    "        quantifiers_L3.append(quantifier(round((len(subsegment_variables_slope_L3[i][3])/len(subsegment_calculations_slope[i])), 2)))\n",
    "        \n",
    "       \n",
    "\n",
    "    return subsegment_variables_slope, subsegment_variables_duration, subsegment_variables_variability, subsegment_variables_slope_L2, subsegment_variables_duration_L2, subsegment_variables_variability_L2, quantifiers, subsegment_variables_slope_L3, subsegment_variables_duration_L3, subsegment_variables_variability_L3, quantifiers_L3 "
   ]
  },
  {
   "cell_type": "code",
   "execution_count": 886,
   "metadata": {},
   "outputs": [
    {
     "data": {
      "text/plain": [
       "[0.01, 0.04, 0.24, 0.24, 0.26, 0.3, 0.21, 0.45]"
      ]
     },
     "execution_count": 886,
     "metadata": {},
     "output_type": "execute_result"
    }
   ],
   "source": [
    "subsegment_calculation(data, segments)[8]"
   ]
  },
  {
   "cell_type": "code",
   "execution_count": 897,
   "metadata": {},
   "outputs": [],
   "source": [
    "subsegment_calculations = subsegment_calculation(data, segments)"
   ]
  },
  {
   "cell_type": "code",
   "execution_count": null,
   "metadata": {},
   "outputs": [],
   "source": [
    "def calc_slope_L2(segments, filtering):\n",
    "    '''\n",
    "    1. Input segment series.\n",
    "    2. Return angle of slope.\n",
    "    '''\n",
    "    slope_series = []\n",
    "    for i in range(len(segments)):\n",
    "        if i not in filtering:\n",
    "            x0, y0, x1, y1 = segments[i]\n",
    "            angle = round((np.rad2deg(np.arctan2(y1 - y0, x1 - x0))), 2)\n",
    "            slope_series.append(angle)\n",
    "        \n",
    "    return slope_series"
   ]
  },
  {
   "cell_type": "code",
   "execution_count": 204,
   "metadata": {},
   "outputs": [],
   "source": [
    "# --- PART PREPROCESSING ---\n",
    "\n",
    "def date_assignment(tuple_series):\n",
    "    \n",
    "    dates = []\n",
    "\n",
    "    for i in range(len(tuple_series)):\n",
    "        dates.append([tuple_series[i][0][0], tuple_series[i][-1][0]])\n",
    "    \n",
    "    return dates"
   ]
  },
  {
   "cell_type": "code",
   "execution_count": 1027,
   "metadata": {},
   "outputs": [],
   "source": [
    "# --- PART 5 ---\n",
    "\n",
    "def nlg(tuple_series, subsegment_calculations):\n",
    "    \n",
    "    # -----------------\n",
    "    # Level 1\n",
    "    # -----------------\n",
    "    \n",
    "    temp_sentences = []\n",
    "\n",
    "    for dates in date_assignment(tuple_series):\n",
    "         # add customdate format\n",
    "         temp_sentences.append('between ' + str(dates[0]) + ' and ' + str(dates[1]))\n",
    "\n",
    "    sentences = [] \n",
    "\n",
    "    for i in range(len(temp_sentences)): \n",
    "        sentences.append(temp_sentences[i] + ', ' + subsegment_calculations[0][i][4] + 'trends are ' + subsegment_calculations[0][i][0] + '.')\n",
    "\n",
    "    extended_sentences = []\n",
    "    \n",
    "    for i in range(len(temp_sentences)):\n",
    "        extended_sentences.append((subsegment_calculations[0][i][0] + ' trends tend to be ' + subsegment_calculations[1][i][0] + ' and of a ' + subsegment_calculations[2][i][0] + ' variability'))\n",
    "\n",
    "    final_sentences = []\n",
    "    \n",
    "    for i in range(len(temp_sentences)):\n",
    "        final_sentences.append(sentences[i] + ' ' + extended_sentences[i] + ' during that period.')\n",
    "        \n",
    "    \n",
    "    # -----------------\n",
    "    # Level 2\n",
    "    # -----------------\n",
    "    \n",
    "    temp_sentences_L2 = {}\n",
    "    extended_sentences_L2 = {}\n",
    "    \n",
    "    if len(subsegment_calculations[3]) != 0:\n",
    "        \n",
    "        for i in range(len(subsegment_calculations[3])):\n",
    "            if len(subsegment_calculations[3][i]) != 0:\n",
    "                temp_sentences_L2.update({i:subsegment_calculations[6][i] + 'trends are ' + subsegment_calculations[3][i][0] + '.'})\n",
    "    \n",
    "        for i in range(len(subsegment_calculations[4])):\n",
    "            if len(subsegment_calculations[4][i]) != 0:\n",
    "                extended_sentences_L2.update({i:subsegment_calculations[3][i][0] + ' trends tend to be ' + subsegment_calculations[4][i][0] + ' and of a ' + subsegment_calculations[5][i][0] + ' variability'})\n",
    "    \n",
    "    #final_output = merge_sentences(final_sentences, temp_sentences_L2)\n",
    "    \n",
    "    # -----------------\n",
    "    # Level 3\n",
    "    # -----------------\n",
    "    \n",
    "    temp_sentences_L3 = {}\n",
    "    extended_sentences_L3 = {}\n",
    "    \n",
    "    if len(subsegment_calculations[7]) != 0:\n",
    "        \n",
    "        for i in range(len(subsegment_calculations[7])):\n",
    "            if len(subsegment_calculations[7][i]) != 0:\n",
    "                temp_sentences_L3.update({i:subsegment_calculations[10][i] + 'trends are ' + subsegment_calculations[7][i][0] + '.'})\n",
    "    \n",
    "        for i in range(len(subsegment_calculations[8])):\n",
    "            if len(subsegment_calculations[8][i]) != 0:\n",
    "                extended_sentences_L3.update({i:subsegment_calculations[7][i][0] + ' trends tend to be ' + subsegment_calculations[8][i][0] + ' and of a ' + subsegment_calculations[9][i][0] + ' variability'})\n",
    "\n",
    "    final_output = merge_sentences(final_sentences, temp_sentences_L2, extended_sentences_L2)\n",
    "    \n",
    "    return final_output"
   ]
  },
  {
   "cell_type": "code",
   "execution_count": 923,
   "metadata": {},
   "outputs": [],
   "source": [
    "# --- PART PREPROCESSING ---\n",
    "def merge_sentences(sentence_list, sentence_dict_1, sentence_dict_2):\n",
    "    final_output = []\n",
    "    \n",
    "    for i in sentence_dict_1.keys():\n",
    "        #sentence_list[i] = sentence_list[i] + ' ' + sentence_dict_1[i] + '.' + ' ' + sentence_dict_2[i] + '.'\n",
    "        final_output.append(sentence_list[i] + ' ' + sentence_dict_1[i] + ' ' + sentence_dict_2[i] + '.')\n",
    "    return final_output"
   ]
  },
  {
   "cell_type": "code",
   "execution_count": 924,
   "metadata": {},
   "outputs": [
    {
     "data": {
      "text/plain": [
       "['between 2010-06-29 00:00:00 and 2011-12-06 00:00:00, almost all of trends are constant. constant trends tend to be very short and of a very low variability during that period. some of trends are slowly increasing. slowly increasing trends tend to be very short and of a very low variability.',\n",
       " 'between 2011-12-07 00:00:00 and 2013-05-22 00:00:00, almost all of trends are constant. constant trends tend to be very short and of a very low variability during that period. some of trends are increasing. increasing trends tend to be medium and of a very low variability.',\n",
       " 'between 2013-05-23 00:00:00 and 2014-10-31 00:00:00, at least a third of trends are constant. constant trends tend to be very short and of a very low variability during that period. some of trends are increasing. increasing trends tend to be very short and of a very low variability.',\n",
       " 'between 2014-11-03 00:00:00 and 2016-04-15 00:00:00, at least a half of trends are constant. constant trends tend to be very short and of a very low variability during that period. some of trends are increasing. increasing trends tend to be very short and of a very low variability.',\n",
       " 'between 2016-04-18 00:00:00 and 2017-09-26 00:00:00, at least a third of trends are constant. constant trends tend to be very short and of a very low variability during that period. some of trends are increasing. increasing trends tend to be medium and of a very low variability.',\n",
       " 'between 2017-09-27 00:00:00 and 2019-03-12 00:00:00, at least a third of trends are decreasing. decreasing trends tend to be very short and of a very low variability during that period. some of trends are constant. constant trends tend to be very short and of a very low variability.',\n",
       " 'between 2019-03-13 00:00:00 and 2020-08-20 00:00:00, some of trends are quickly increasing. quickly increasing trends tend to be very short and of a very low variability during that period. some of trends are quickly decreasing. quickly decreasing trends tend to be very short and of a very low variability.',\n",
       " 'between 2020-08-21 00:00:00 and 2021-07-14 00:00:00, at least a half of trends are quickly increasing. quickly increasing trends tend to be very short and of a very low variability during that period. some of trends are quickly decreasing. quickly decreasing trends tend to be very short and of a very low variability.']"
      ]
     },
     "execution_count": 924,
     "metadata": {},
     "output_type": "execute_result"
    }
   ],
   "source": [
    "merge_sentences(sentence_list, sentence_dict_1, sentence_dict_2)"
   ]
  },
  {
   "cell_type": "code",
   "execution_count": 911,
   "metadata": {},
   "outputs": [],
   "source": [
    "sentence_dict_2 = nlg(tuple_series, subsegment_calculations)[4]"
   ]
  },
  {
   "cell_type": "code",
   "execution_count": 601,
   "metadata": {},
   "outputs": [],
   "source": [
    "# --- PART PREPROCESSING ---\n",
    "\n",
    "def columns_to_tuples(column1, column2):\n",
    "    tuple_series = list(zip(column1, round(column2, 2)))\n",
    "    return tuple_series"
   ]
  },
  {
   "cell_type": "code",
   "execution_count": null,
   "metadata": {},
   "outputs": [],
   "source": [
    "def error_level():\n",
    "    \n",
    "    # TBD\n",
    "    \n",
    "    return max_error"
   ]
  },
  {
   "cell_type": "markdown",
   "metadata": {},
   "source": [
    "## Breakpoint detection"
   ]
  },
  {
   "cell_type": "code",
   "execution_count": 29,
   "metadata": {},
   "outputs": [],
   "source": [
    "import jenkspy"
   ]
  },
  {
   "cell_type": "code",
   "execution_count": 4,
   "metadata": {},
   "outputs": [],
   "source": [
    "stock_name = 'TSLA'"
   ]
  },
  {
   "cell_type": "code",
   "execution_count": 5,
   "metadata": {},
   "outputs": [
    {
     "ename": "NameError",
     "evalue": "name 'yf' is not defined",
     "output_type": "error",
     "traceback": [
      "\u001b[0;31m---------------------------------------------------------------------------\u001b[0m",
      "\u001b[0;31mNameError\u001b[0m                                 Traceback (most recent call last)",
      "\u001b[0;32m<ipython-input-5-df4ce4837ca8>\u001b[0m in \u001b[0;36m<module>\u001b[0;34m\u001b[0m\n\u001b[0;32m----> 1\u001b[0;31m \u001b[0my\u001b[0m\u001b[0;34m,\u001b[0m \u001b[0m_\u001b[0m \u001b[0;34m,\u001b[0m \u001b[0mdf\u001b[0m \u001b[0;34m=\u001b[0m \u001b[0mpreprocessing\u001b[0m\u001b[0;34m(\u001b[0m\u001b[0mstock_name\u001b[0m\u001b[0;34m,\u001b[0m \u001b[0mperiod\u001b[0m\u001b[0;34m=\u001b[0m\u001b[0;34m'max'\u001b[0m\u001b[0;34m)\u001b[0m\u001b[0;34m\u001b[0m\u001b[0;34m\u001b[0m\u001b[0m\n\u001b[0m\u001b[1;32m      2\u001b[0m \u001b[0mts\u001b[0m \u001b[0;34m=\u001b[0m \u001b[0mround\u001b[0m\u001b[0;34m(\u001b[0m\u001b[0mdf\u001b[0m\u001b[0;34m[\u001b[0m\u001b[0;34m'Open'\u001b[0m\u001b[0;34m]\u001b[0m\u001b[0;34m,\u001b[0m \u001b[0;36m4\u001b[0m\u001b[0;34m)\u001b[0m\u001b[0;34m\u001b[0m\u001b[0;34m\u001b[0m\u001b[0m\n",
      "\u001b[0;32m<ipython-input-2-898337420514>\u001b[0m in \u001b[0;36mpreprocessing\u001b[0;34m(stock_name, period)\u001b[0m\n\u001b[1;32m      7\u001b[0m \u001b[0;34m\u001b[0m\u001b[0m\n\u001b[1;32m      8\u001b[0m     \u001b[0;31m# get stock data\u001b[0m\u001b[0;34m\u001b[0m\u001b[0;34m\u001b[0m\u001b[0;34m\u001b[0m\u001b[0m\n\u001b[0;32m----> 9\u001b[0;31m     \u001b[0mhist\u001b[0m \u001b[0;34m=\u001b[0m \u001b[0myf\u001b[0m\u001b[0;34m.\u001b[0m\u001b[0mTicker\u001b[0m\u001b[0;34m(\u001b[0m\u001b[0mstock_name\u001b[0m\u001b[0;34m)\u001b[0m\u001b[0;34m\u001b[0m\u001b[0;34m\u001b[0m\u001b[0m\n\u001b[0m\u001b[1;32m     10\u001b[0m \u001b[0;34m\u001b[0m\u001b[0m\n\u001b[1;32m     11\u001b[0m     \u001b[0;31m# get historical market data\u001b[0m\u001b[0;34m\u001b[0m\u001b[0;34m\u001b[0m\u001b[0;34m\u001b[0m\u001b[0m\n",
      "\u001b[0;31mNameError\u001b[0m: name 'yf' is not defined"
     ]
    }
   ],
   "source": [
    "y, _ , df = preprocessing(stock_name, period='max')\n",
    "ts = round(df['Open'], 4)"
   ]
  },
  {
   "cell_type": "code",
   "execution_count": 31,
   "metadata": {},
   "outputs": [],
   "source": [
    "n_breaks = 3\n",
    "breaks = jenkspy.jenks_breaks(y, nb_class=n_breaks-1)"
   ]
  },
  {
   "cell_type": "code",
   "execution_count": 32,
   "metadata": {},
   "outputs": [
    {
     "data": {
      "text/plain": [
       "[DatetimeIndex(['2010-07-08'], dtype='datetime64[ns]', name='Date', freq=None),\n",
       " DatetimeIndex(['2020-08-13'], dtype='datetime64[ns]', name='Date', freq=None),\n",
       " DatetimeIndex(['2021-01-26'], dtype='datetime64[ns]', name='Date', freq=None)]"
      ]
     },
     "execution_count": 32,
     "metadata": {},
     "output_type": "execute_result"
    }
   ],
   "source": [
    "breaks_jkp = []\n",
    "for v in breaks:\n",
    "    idx = ts.index[ts == v]\n",
    "    breaks_jkp.append(idx)\n",
    "breaks_jkp"
   ]
  },
  {
   "cell_type": "code",
   "execution_count": 33,
   "metadata": {},
   "outputs": [
    {
     "data": {
      "text/plain": [
       "[DatetimeIndex(['2010-07-08'], dtype='datetime64[ns]', name='Date', freq=None),\n",
       " DatetimeIndex(['2020-08-13'], dtype='datetime64[ns]', name='Date', freq=None),\n",
       " DatetimeIndex(['2021-01-26'], dtype='datetime64[ns]', name='Date', freq=None)]"
      ]
     },
     "execution_count": 33,
     "metadata": {},
     "output_type": "execute_result"
    }
   ],
   "source": [
    "breaks_jkp"
   ]
  },
  {
   "cell_type": "code",
   "execution_count": 139,
   "metadata": {},
   "outputs": [],
   "source": [
    "# to integrate\n",
    "def datetime_to_date_jkp(breaks_jkp):\n",
    "\n",
    "    break_points = []\n",
    "\n",
    "    for i in breaks_jkp:\n",
    "        for date in i:\n",
    "            break_points.append(date.date())\n",
    "    \n",
    "    return break_points"
   ]
  },
  {
   "cell_type": "code",
   "execution_count": 35,
   "metadata": {},
   "outputs": [],
   "source": [
    "def create_segments(breaks_jkp, df):\n",
    "    segments = []\n",
    "    start = df.index[0]\n",
    "    index = list(df.index)\n",
    "    for breakpoint in breaks_jkp:\n",
    "        segment = (index.index(start), round(df[\"Open\"][start], 4), index.index(breakpoint), round(df[\"Open\"][breakpoint], 4))\n",
    "        segments.append(segment)\n",
    "        start = breakpoint\n",
    "    if df.index[-1] != breaks_jkp[-1]:\n",
    "        final = df.index[-1]\n",
    "        segment = (index.index(breaks_jkp[-1]), round(df[\"Open\"][breaks_jkp[-1]], 4), index.index(final), round(df[\"Open\"][final], 4))\n",
    "        segments.append(segment)\n",
    "    return segments"
   ]
  },
  {
   "cell_type": "code",
   "execution_count": 337,
   "metadata": {},
   "outputs": [],
   "source": [
    "y = []\n",
    "\n",
    "for i in range(100):\n",
    "    y.append(i)"
   ]
  },
  {
   "cell_type": "code",
   "execution_count": 338,
   "metadata": {},
   "outputs": [
    {
     "data": {
      "text/plain": [
       "0.58"
      ]
     },
     "execution_count": 338,
     "metadata": {},
     "output_type": "execute_result"
    }
   ],
   "source": [
    "x = np.array(y)\n",
    "sd = np.std(x)\n",
    "round(sd / np.average(y), 2)"
   ]
  },
  {
   "cell_type": "code",
   "execution_count": null,
   "metadata": {},
   "outputs": [],
   "source": [
    "for i in range(len(segments)):\n",
    "    start, _, end, _ = segments[i]\n",
    "    x = np.array(data[start:end+1])\n",
    "    #segment_iqr = round(iqr(x), 4)\n",
    "    segment_sd = np.std(x)\n",
    "    segment_avg = np.average(x)\n",
    "    coefficient_of_variance = round((segment_sd / segment_avg), 2)\n",
    "    variability_series.append(coefficient_of_variance)"
   ]
  },
  {
   "cell_type": "code",
   "execution_count": 55,
   "metadata": {},
   "outputs": [
    {
     "data": {
      "text/plain": [
       "[0.17, 0.95, 0.29, 0.11]"
      ]
     },
     "execution_count": 55,
     "metadata": {},
     "output_type": "execute_result"
    }
   ],
   "source": [
    "calc_variability(y, segments)"
   ]
  },
  {
   "cell_type": "code",
   "execution_count": 320,
   "metadata": {},
   "outputs": [
    {
     "data": {
      "text/plain": [
       "[0.04, 0.95, 0.18, 0.1]"
      ]
     },
     "execution_count": 320,
     "metadata": {},
     "output_type": "execute_result"
    }
   ],
   "source": [
    "calc_variability(y, segments)"
   ]
  },
  {
   "cell_type": "code",
   "execution_count": 319,
   "metadata": {},
   "outputs": [],
   "source": [
    "def calc_variability(data, segments):\n",
    "\n",
    "    variability_series = []\n",
    "\n",
    "    for i in range(len(segments)):\n",
    "        start, _, end, _ = segments[i]\n",
    "        x = np.array(data[start:end+1])\n",
    "        #segment_iqr = round(iqr(x), 4)\n",
    "        segment_sd = np.std(x)\n",
    "        segment_avg = np.average(x)\n",
    "        coefficient_of_variance = round((segment_sd / segment_avg), 2)\n",
    "        variability_series.append(coefficient_of_variance)\n",
    "            \n",
    "    return variability_series"
   ]
  },
  {
   "cell_type": "code",
   "execution_count": 37,
   "metadata": {},
   "outputs": [],
   "source": [
    "break_points = datetime_to_date(breaks_jkp)"
   ]
  },
  {
   "cell_type": "code",
   "execution_count": 38,
   "metadata": {},
   "outputs": [],
   "source": [
    "segments = create_segments(break_points, df)"
   ]
  },
  {
   "cell_type": "code",
   "execution_count": null,
   "metadata": {},
   "outputs": [],
   "source": [
    "#plt.figure(figsize=(18, 10))\n",
    "plt.figure(figsize=(18, 10))\n",
    "plt.plot(ts, label='data')\n",
    "plt.title('Stock price of ' + stock_name)\n",
    "print_legend = True\n",
    "for i in breaks_jkp:\n",
    "    if print_legend:\n",
    "        plt.axvline(i, color='red',linestyle='dashed', label='breaks')\n",
    "        print_legend = False\n",
    "    else:\n",
    "        plt.axvline(i, color='red',linestyle='dashed')\n",
    "plt.grid()\n",
    "plt.legend()\n",
    "plt.show()"
   ]
  },
  {
   "cell_type": "code",
   "execution_count": 215,
   "metadata": {},
   "outputs": [
    {
     "data": {
      "image/png": "[encoded data removed]",
      "text/plain": [
       "<Figure size 1296x720 with 1 Axes>"
      ]
     },
     "metadata": {
      "needs_background": "light"
     },
     "output_type": "display_data"
    }
   ],
   "source": [
    "#plt.figure(figsize=(18, 10))\n",
    "plt.figure(figsize=(18, 10))\n",
    "plt.plot(ts, label='data')\n",
    "plt.title('Stock price of ' + stock_name)\n",
    "print_legend = True\n",
    "for i in breaks_rpt:\n",
    "    if print_legend:\n",
    "        plt.axvline(i, color='red',linestyle='dashed', label='breaks')\n",
    "        print_legend = False\n",
    "    else:\n",
    "        plt.axvline(i, color='red',linestyle='dashed')\n",
    "plt.grid()\n",
    "plt.legend()\n",
    "plt.show()"
   ]
  },
  {
   "cell_type": "code",
   "execution_count": 26,
   "metadata": {},
   "outputs": [],
   "source": [
    "import ruptures as rpt\n",
    "y = np.array(y)\n",
    "model = rpt.Pelt(model=\"l1\").fit(y)\n",
    "breaks = algo.predict(pen=30)\n",
    "#model = rpt.Pelt(model='l2')"
   ]
  },
  {
   "cell_type": "code",
   "execution_count": 27,
   "metadata": {},
   "outputs": [
    {
     "data": {
      "text/plain": [
       "DatetimeIndex(['2010-12-16', '2011-06-09', '2011-12-13', '2012-06-20'], dtype='datetime64[ns]', freq=None)"
      ]
     },
     "execution_count": 27,
     "metadata": {},
     "output_type": "execute_result"
    }
   ],
   "source": [
    "breaks_rpt = []\n",
    "for i in breaks:\n",
    "    breaks_rpt.append(ts.index[i-1])\n",
    "breaks_rpt = pd.to_datetime(breaks_rpt)\n",
    "breaks_rpt"
   ]
  },
  {
   "cell_type": "code",
   "execution_count": 11,
   "metadata": {},
   "outputs": [],
   "source": [
    "y, _ , df = preprocessing(stock_name, period='max')\n",
    "ts = round(df['Open'], 4)"
   ]
  },
  {
   "cell_type": "code",
   "execution_count": 10,
   "metadata": {},
   "outputs": [],
   "source": [
    "n_breaks = 4"
   ]
  },
  {
   "cell_type": "code",
   "execution_count": null,
   "metadata": {},
   "outputs": [],
   "source": [
    "breaks_pp = model.predict(n_bkps=n_breaks-1)"
   ]
  },
  {
   "cell_type": "code",
   "execution_count": 118,
   "metadata": {},
   "outputs": [],
   "source": [
    "y = np.array(y)"
   ]
  },
  {
   "cell_type": "code",
   "execution_count": 131,
   "metadata": {},
   "outputs": [
    {
     "data": {
      "text/plain": [
       "<ruptures.detection.dynp.Dynp at 0x10fd9d1c0>"
      ]
     },
     "execution_count": 131,
     "metadata": {},
     "output_type": "execute_result"
    }
   ],
   "source": [
    "model = rpt.Dynp(model=\"l1\")\n",
    "model.fit(y)"
   ]
  },
  {
   "cell_type": "code",
   "execution_count": 143,
   "metadata": {},
   "outputs": [
    {
     "name": "stdout",
     "output_type": "stream",
     "text": [
      "15.92seconds\n"
     ]
    }
   ],
   "source": [
    "start = timer()\n",
    "model = rpt.Dynp(model=\"l1\")\n",
    "model.fit(y)\n",
    "breaks = model.predict(n_bkps=n_breaks-1)\n",
    "end = timer()\n",
    "print(str((round(end - start, 2))) + ' seconds')"
   ]
  },
  {
   "cell_type": "code",
   "execution_count": 216,
   "metadata": {},
   "outputs": [],
   "source": [
    "# concatenate values and index\n",
    "data = []\n",
    "\n",
    "for i, value in enumerate(y.tolist()):\n",
    "    data.append((i, value))\n",
    "\n",
    "# detect breakpoints\n",
    "start = timer()\n",
    "breaks_pp = pip(data,n_breaks)\n",
    "end = timer()\n",
    "elapsed_time = round(end - start, 2)\n",
    "\n",
    "# get corresponding date for breakpoint\n",
    "breaks = []\n",
    "\n",
    "for i in range(len(breaks_pp)):\n",
    "    breaks.append(list(df.index)[breaks_pp[i][0]].date())"
   ]
  },
  {
   "cell_type": "code",
   "execution_count": 137,
   "metadata": {},
   "outputs": [],
   "source": [
    "def datetime_to_date_rpt(breaks):\n",
    "\n",
    "    dates = []\n",
    "\n",
    "    for i in breaks_rpt:\n",
    "        dates.append(i.date())\n",
    "        \n",
    "    return dates"
   ]
  },
  {
   "cell_type": "code",
   "execution_count": null,
   "metadata": {},
   "outputs": [],
   "source": [
    "n_breaks = 3\n",
    "breaks = jenkspy.jenks_breaks(y, nb_class=n_breaks-1)"
   ]
  },
  {
   "cell_type": "code",
   "execution_count": 127,
   "metadata": {},
   "outputs": [],
   "source": [
    "def breakpoint_detection(algorithm, series):\n",
    "    \n",
    "    if algorithm == 'jenkspy':\n",
    "        \n",
    "        # detect breakpoints\n",
    "        breaks_pp = jenkspy.jenks_breaks(y, nb_class=n_breaks-1)\n",
    "        \n",
    "        # get corresponding date for breakpoint\n",
    "        breaks = []\n",
    "        for i in breaks_pp:\n",
    "            idx = ts.index[ts == i]\n",
    "            breaks.append(idx)\n",
    "    \n",
    "    if algorithm == 'ruptures':\n",
    "        \n",
    "        # train model\n",
    "        model = rpt.Dynp(model=\"l1\")\n",
    "        model.fit(y)\n",
    "        # detect breakpoints\n",
    "        breaks_pp = model.predict(n_bkps=n_breaks-1)\n",
    "        \n",
    "        # get corresponding date for breakpoint\n",
    "        breaks = []\n",
    "        for i in breaks_pp:\n",
    "            breaks.append(ts.index[i-1])\n",
    "        breaks = pd.to_datetime(breaks)\n",
    "        \n",
    "    return breaks"
   ]
  },
  {
   "cell_type": "code",
   "execution_count": 129,
   "metadata": {},
   "outputs": [
    {
     "data": {
      "text/plain": [
       "[DatetimeIndex(['2010-07-08'], dtype='datetime64[ns]', name='Date', freq=None),\n",
       " DatetimeIndex(['2020-08-13'], dtype='datetime64[ns]', name='Date', freq=None),\n",
       " DatetimeIndex(['2021-01-26'], dtype='datetime64[ns]', name='Date', freq=None)]"
      ]
     },
     "execution_count": 129,
     "metadata": {},
     "output_type": "execute_result"
    }
   ],
   "source": [
    "breakpoint_detection('jenkspy', y)"
   ]
  },
  {
   "cell_type": "code",
   "execution_count": null,
   "metadata": {},
   "outputs": [],
   "source": [
    "# ruptures\n",
    "# jenkspy"
   ]
  },
  {
   "cell_type": "markdown",
   "metadata": {},
   "source": [
    "# NLG Breakpoint"
   ]
  },
  {
   "cell_type": "code",
   "execution_count": null,
   "metadata": {},
   "outputs": [],
   "source": [
    "slope = Domain(\"slope\", -90, 90, res=0.01)\n",
    "slope.decreased_very_quickly = S(-90+30, -90+35)\n",
    "slope.decreased_quickly = trapezoid(-60, -55, -30, -25)\n",
    "slope.decreased = trapezoid(-30, -25, -15, -10)\n",
    "slope.decreased_slowly = trapezoid(-15, -10, -5, 0)\n",
    "slope.stable = triangular(-1, 1)\n",
    "slope.increased_slowly = trapezoid(0, 5, 10, 15)\n",
    "slope.increased = trapezoid(10, 15, 25, 30)\n",
    "slope.increased_quickly = trapezoid(25, 30, 55, 60)\n",
    "slope.increased_very_quickly = R(90-35, 90-30)"
   ]
  },
  {
   "cell_type": "code",
   "execution_count": 110,
   "metadata": {},
   "outputs": [],
   "source": [
    "def fuzzy_slope(series):\n",
    "    \n",
    "    variables = []\n",
    "\n",
    "    \n",
    "    for i in series:   \n",
    "        \n",
    "        total_sum = {'decreased very quickly' : [],\n",
    "             'decreased quickly' : [],\n",
    "             'decreased' : [],\n",
    "             'decreased slowly' : [],\n",
    "             'remained stable' : [],\n",
    "             'increased slowly' : [],\n",
    "             'increased' : [],\n",
    "             'increased quickly' : [],\n",
    "             'increased very quickly' : []}\n",
    "            \n",
    "        # change wording of membership functions\n",
    "        total_sum['decreased very quickly'].append(round(slope.decreased_very_quickly(i), 2))\n",
    "    \n",
    "        total_sum['decreased quickly'].append(round(slope.decreased_quickly(i), 2))\n",
    "        \n",
    "        total_sum['decreased'].append(round(slope.decreased(i), 2))\n",
    "        \n",
    "        total_sum['decreased slowly'].append(round(slope.decreased_slowly(i), 2))\n",
    "        \n",
    "        total_sum['remained stable'].append(round(slope.stable(i), 2))\n",
    "        \n",
    "        total_sum['increased slowly'].append(round(slope.increased_slowly(i), 2))\n",
    "            \n",
    "        total_sum['increased'].append(round(slope.increased(i), 2))\n",
    "        \n",
    "        total_sum['increased quickly'].append(round(slope.increased_quickly(i), 2))\n",
    "        \n",
    "        total_sum['increased very quickly'].append(round(slope.increased_very_quickly(i), 2))\n",
    "        \n",
    "        # get category with highest value\n",
    "        candidate = max(total_sum, key = lambda x: sum(total_sum.get(x)))\n",
    "        truth_value = total_sum.get(max(total_sum, key = lambda x: sum(total_sum.get(x))))\n",
    "        candidate_dict = total_sum\n",
    "        \n",
    "        variables.append((candidate, truth_value, candidate_dict))\n",
    " \n",
    "    return variables"
   ]
  },
  {
   "cell_type": "code",
   "execution_count": 58,
   "metadata": {},
   "outputs": [],
   "source": [
    "def fuzzy_variability(series):\n",
    "    \n",
    "    variables = []\n",
    "    \n",
    "    for i in series:\n",
    "    \n",
    "        total_sum = {'very high' : [],\n",
    "                     'high' : [],\n",
    "                     'medium' : [],\n",
    "                     'low' : [],\n",
    "                     'very low' : []}\n",
    "\n",
    "        total_sum['very high'].append(round(variability.very_high(i), 2))\n",
    "        total_sum['high'].append(round(variability.high(i), 2))\n",
    "        total_sum['medium'].append(round(variability.medium(i), 2))\n",
    "        total_sum['low'].append(round(variability.low(i), 2))\n",
    "        total_sum['very low'].append(round(variability.very_low(i), 2))\n",
    "\n",
    "\n",
    "        # get category with highest value\n",
    "        candidate = max(total_sum, key = lambda x: sum(total_sum.get(x)))\n",
    "        truth_value = total_sum.get(max(total_sum, key = lambda x: sum(total_sum.get(x))))\n",
    "        candidate_dict = total_sum\n",
    "\n",
    "        variables.append((candidate, truth_value, candidate_dict))\n",
    "    \n",
    "    return variables"
   ]
  },
  {
   "cell_type": "code",
   "execution_count": 41,
   "metadata": {},
   "outputs": [],
   "source": [
    "def suffix(d):\n",
    "    return 'th' if 11<=d<=13 else {1:'st',2:'nd',3:'rd'}.get(d%10, 'th')\n",
    "\n",
    "def custom_strftime(t):\n",
    "    \n",
    "    format = '%B {S} %Y'\n",
    "    string_date = t.strftime(format).replace('{S}', str(t.day) + suffix(t.day))\n",
    "    \n",
    "    return string_date"
   ]
  },
  {
   "cell_type": "code",
   "execution_count": 42,
   "metadata": {},
   "outputs": [],
   "source": [
    "def columns_to_tuples(column1, column2):\n",
    "    tuple_series = list(zip(column1, round(column2, 2)))\n",
    "    return tuple_series"
   ]
  },
  {
   "cell_type": "code",
   "execution_count": 43,
   "metadata": {},
   "outputs": [],
   "source": [
    "def date_extraction_of_segments(segments):\n",
    "    \n",
    "    dates = []\n",
    "    \n",
    "    for segment in segments:\n",
    "        start_idx, _ , end_idx, _ = segment\n",
    "        start_date = custom_strftime(list(df.index)[start_idx].date())\n",
    "        end_date = custom_strftime(list(df.index)[end_idx].date())\n",
    "        dates.append((start_date, end_date))\n",
    "    \n",
    "    return dates"
   ]
  },
  {
   "cell_type": "code",
   "execution_count": 45,
   "metadata": {},
   "outputs": [],
   "source": [
    "def min_date(df):\n",
    "    \n",
    "    date = custom_strftime(df.index.min())\n",
    "\n",
    "    return date"
   ]
  },
  {
   "cell_type": "code",
   "execution_count": 46,
   "metadata": {},
   "outputs": [],
   "source": [
    "def date_assignment(tuple_series):\n",
    "    \n",
    "    values_with_dates = []\n",
    "\n",
    "    for i in range(len(tuple_series)):\n",
    "        dates.append([tuple_series[i][0][0], tuple_series[i][-1][0]])\n",
    "    \n",
    "    return values_with_dates"
   ]
  },
  {
   "cell_type": "code",
   "execution_count": 47,
   "metadata": {},
   "outputs": [],
   "source": [
    "def price_change(segments):\n",
    "    \n",
    "    changes = []\n",
    "    \n",
    "    for segment in segments:\n",
    "        _, start_value , _ , end_value = segment\n",
    "        \n",
    "        abs_change = round(end_value - start_value, 2)\n",
    "        pct_change = round(((end_value - start_value) / start_value)*100, 2)\n",
    "        changes.append((abs_change, pct_change))\n",
    "        \n",
    "    return changes"
   ]
  },
  {
   "cell_type": "code",
   "execution_count": 328,
   "metadata": {},
   "outputs": [],
   "source": [
    "def breakpoint_summary(data, segments):\n",
    "    \n",
    "    # get startdate and enddate in custom format of each segment\n",
    "    dates = date_extraction_of_segments(segments)\n",
    "    \n",
    "    # get slope of each segment and calculate corresponding fuzzy variable\n",
    "    slopes = calc_slope(segments)\n",
    "    slope_variables = fuzzy_slope(slopes)\n",
    "    \n",
    "    # get price changes of each segment\n",
    "    price_changes = price_change(segments)\n",
    "    \n",
    "    # get variability of each segment\n",
    "    variabilities = calc_variability(data, segments)\n",
    "    variability_variables = fuzzy_variability(variabilities)\n",
    "    \n",
    "    \n",
    "    output = []\n",
    "    \n",
    "    for i in range(len(segments)):\n",
    "        output.append('Between ' + dates[i][0] + ' and ' + dates[i][1] + ', ' + 'the closing price ' \\\n",
    "                     + str(slope_variables[i][0]) + ' with a change of ' + str(price_changes[i][0]) +'$' + ' (' + str(price_changes[i][1]) + '%)' \\\n",
    "                     + ' and a ' + str(variability_variables[i][0]) + ' volatility ' + '(' + str(variabilities[i]) + ').')\n",
    "        \n",
    "        \n",
    "    return output"
   ]
  },
  {
   "cell_type": "code",
   "execution_count": 329,
   "metadata": {},
   "outputs": [
    {
     "data": {
      "text/plain": [
       "['Between June 29th 2010 and July 8th 2010, the closing price decreased slowly with a change of -0.57$ (-15.05%) and a very low volatility (0.04).',\n",
       " 'Between July 8th 2010 and August 13th 2020, the closing price increased slowly with a change of 318.97$ (9881.41%) and a very high volatility (0.95).',\n",
       " 'Between August 13th 2020 and January 26th 2021, the closing price increased very quickly with a change of 569.18$ (176.65%) and a low volatility (0.18).',\n",
       " 'Between January 26th 2021 and July 21st 2021, the closing price decreased very quickly with a change of -231.77$ (-26.0%) and a very low volatility (0.1).']"
      ]
     },
     "execution_count": 329,
     "metadata": {},
     "output_type": "execute_result"
    }
   ],
   "source": [
    "breakpoint_summary(y, segments)"
   ]
  },
  {
   "cell_type": "code",
   "execution_count": 72,
   "metadata": {},
   "outputs": [
    {
     "data": {
      "text/plain": [
       "['Between June 29th 2010 and July 8th 2010, the closing price remained stable with a change of -0.57$ (-15.05%) and a very low variability.',\n",
       " 'Between July 8th 2010 and August 13th 2020, the closing price remained stable with a change of 318.97$ (9881.41%) and a very high variability.',\n",
       " 'Between August 13th 2020 and January 26th 2021, the closing price quickly increased with a change of 569.18$ (176.65%) and a low variability.',\n",
       " 'Between January 26th 2021 and July 21st 2021, the closing price decreased with a change of -231.77$ (-26.0%) and a very low variability.']"
      ]
     },
     "execution_count": 72,
     "metadata": {},
     "output_type": "execute_result"
    }
   ],
   "source": [
    "output = breakpoint_summary(y, segments)"
   ]
  },
  {
   "cell_type": "code",
   "execution_count": 146,
   "metadata": {},
   "outputs": [],
   "source": [
    "from fastpip import pip"
   ]
  },
  {
   "cell_type": "code",
   "execution_count": 165,
   "metadata": {},
   "outputs": [],
   "source": [
    "data = []\n",
    "\n",
    "for i, value in enumerate(y.tolist()):\n",
    "    data.append((i, value))\n",
    "    \n",
    "break_points = pip(data,n_breaks)"
   ]
  },
  {
   "cell_type": "code",
   "execution_count": null,
   "metadata": {},
   "outputs": [],
   "source": [
    "if algorithm == 'ruptures':\n",
    "\n",
    "    # train model\n",
    "    model = rpt.Dynp(model=\"l1\")\n",
    "    model.fit(y)\n",
    "    # detect breakpoints\n",
    "    breaks_pp = model.predict(n_bkps=n_breaks-1)\n",
    "\n",
    "    # get corresponding date for breakpoint\n",
    "    breaks = []\n",
    "    for i in breaks_pp:\n",
    "        breaks.append(ts.index[i-1])\n",
    "    breaks = pd.to_datetime(breaks)\n"
   ]
  },
  {
   "cell_type": "code",
   "execution_count": 171,
   "metadata": {},
   "outputs": [],
   "source": [
    "# concatenate values and index\n",
    "data = []\n",
    "\n",
    "for i, value in enumerate(y.tolist()):\n",
    "    data.append((i, value))\n",
    "    \n",
    "# detect breakpoints\n",
    "breaks_pp = pip(data,n_breaks)\n",
    "\n",
    "# get corresponding date for breakpoint\n",
    "breaks = []\n",
    "\n",
    "for i in range(len(breaks_pp)):\n",
    "    breaks.append(list(df.index)[breaks_pp[i][0]].date())"
   ]
  },
  {
   "cell_type": "code",
   "execution_count": null,
   "metadata": {},
   "outputs": [],
   "source": [
    "def date_extraction_of_segments(segments):\n",
    "    \n",
    "    dates = []\n",
    "    \n",
    "    for segment in segments:\n",
    "        start_idx, _ , end_idx, _ = segment\n",
    "        start_date = custom_strftime(list(df.index)[start_idx].date())\n",
    "        end_date = custom_strftime(list(df.index)[end_idx].date())\n",
    "        dates.append((start_date, end_date))\n",
    "    \n",
    "    return dates"
   ]
  },
  {
   "cell_type": "code",
   "execution_count": 239,
   "metadata": {},
   "outputs": [],
   "source": [
    "def leastsquareslinefit(sequence,seq_range):\n",
    "    \"\"\"Return the parameters and error for a least squares line fit of one segment of a sequence\"\"\"\n",
    "    x = np.arange(seq_range[0],seq_range[1]+1)\n",
    "    y = np.array(sequence[seq_range[0]:seq_range[1]+1])\n",
    "    A = np.ones((len(x),2),float)\n",
    "    A[:,0] = x\n",
    "    (p,residuals,rank,s) = lstsq(A,y)\n",
    "    try:\n",
    "        error = residuals[0]\n",
    "    except IndexError:\n",
    "        error = 0.0\n",
    "    return (p,error)"
   ]
  },
  {
   "cell_type": "code",
   "execution_count": 242,
   "metadata": {},
   "outputs": [],
   "source": [
    "# compute_error functions\n",
    "\n",
    "def sumsquared_error(sequence, segments):\n",
    "    \"\"\"Return the sum of squared errors for a least squares line fit of one segment of a sequence\"\"\"\n",
    "    \n",
    "    sumsquared_error = []\n",
    "    \n",
    "    for segment in segments:\n",
    "        x0,y0,x1,y1 = segment\n",
    "        p, error = leastsquareslinefit(sequence,(x0,x1))\n",
    "        sumsquared_error.append(round(error, 3))\n",
    "    return sumsquared_error"
   ]
  },
  {
   "cell_type": "code",
   "execution_count": 253,
   "metadata": {},
   "outputs": [],
   "source": [
    "def meansquared_error(sequence, segments):\n",
    "    \"\"\"Return the mean of squared errors for a least squares line fit of one segment of a sequence\"\"\"\n",
    "    \n",
    "    total_error = []\n",
    "    meansquared_error = round(mean(total_error), 2)\n",
    "    \n",
    "    for segment in segments:\n",
    "        x0,y0,x1,y1 = segment\n",
    "        p, error = leastsquareslinefit(sequence,(x0,x1))\n",
    "        total_error.append(error)\n",
    "        \n",
    "    return meansquared_error"
   ]
  },
  {
   "cell_type": "code",
   "execution_count": 248,
   "metadata": {},
   "outputs": [],
   "source": [
    "import numpy as np\n",
    "from numpy.linalg import lstsq\n",
    "from statistics import mean"
   ]
  },
  {
   "cell_type": "code",
   "execution_count": 243,
   "metadata": {},
   "outputs": [
    {
     "name": "stderr",
     "output_type": "stream",
     "text": [
      "<ipython-input-239-2b526c7c5376>:7: FutureWarning: `rcond` parameter will change to the default of machine precision times ``max(M, N)`` where M and N are the input matrix dimensions.\n",
      "To use the future default and silence this warning we advise to pass `rcond=None`, to keep using the old, explicitly pass `rcond=-1`.\n",
      "  (p,residuals,rank,s) = lstsq(A,y)\n"
     ]
    },
    {
     "data": {
      "text/plain": [
       "[2.197, 2135416.743, 629398.978, 409062.66]"
      ]
     },
     "execution_count": 243,
     "metadata": {},
     "output_type": "execute_result"
    }
   ],
   "source": [
    "sumsquared_error(y, segments)"
   ]
  },
  {
   "cell_type": "code",
   "execution_count": 244,
   "metadata": {},
   "outputs": [
    {
     "name": "stderr",
     "output_type": "stream",
     "text": [
      "<ipython-input-239-2b526c7c5376>:7: FutureWarning: `rcond` parameter will change to the default of machine precision times ``max(M, N)`` where M and N are the input matrix dimensions.\n",
      "To use the future default and silence this warning we advise to pass `rcond=None`, to keep using the old, explicitly pass `rcond=-1`.\n",
      "  (p,residuals,rank,s) = lstsq(A,y)\n"
     ]
    }
   ],
   "source": [
    "errors = sumsquared_error(y, segments)"
   ]
  },
  {
   "cell_type": "code",
   "execution_count": 265,
   "metadata": {},
   "outputs": [],
   "source": [
    "def meansquared_error(sequence, segments):\n",
    "    \"\"\"Return the mean of squared errors for a least squares line fit of one segment of a sequence\"\"\"\n",
    "\n",
    "    total_error = []\n",
    "    \n",
    "    for segment in segments:\n",
    "        x0,y0,x1,y1 = segment\n",
    "        p, error = leastsquareslinefit(sequence,(x0,x1))\n",
    "        total_error.append(error)\n",
    "        \n",
    "    meansquared_error = round(mean(total_error), 2)\n",
    "    \n",
    "    return meansquared_error"
   ]
  },
  {
   "cell_type": "code",
   "execution_count": 266,
   "metadata": {},
   "outputs": [
    {
     "name": "stderr",
     "output_type": "stream",
     "text": [
      "<ipython-input-239-2b526c7c5376>:7: FutureWarning: `rcond` parameter will change to the default of machine precision times ``max(M, N)`` where M and N are the input matrix dimensions.\n",
      "To use the future default and silence this warning we advise to pass `rcond=None`, to keep using the old, explicitly pass `rcond=-1`.\n",
      "  (p,residuals,rank,s) = lstsq(A,y)\n"
     ]
    },
    {
     "data": {
      "text/plain": [
       "793470.14"
      ]
     },
     "execution_count": 266,
     "metadata": {},
     "output_type": "execute_result"
    }
   ],
   "source": [
    "meansquared_error(y, segments)"
   ]
  },
  {
   "cell_type": "code",
   "execution_count": 268,
   "metadata": {},
   "outputs": [],
   "source": [
    "def calc_variability(data, segments):\n",
    "    '''\n",
    "    1. Input value range as array.\n",
    "    2. Return interquartile range.\n",
    "    '''\n",
    "    variability_series = []\n",
    "\n",
    "    for i in range(len(segments)):\n",
    "        start, _, end, _ = segments[i]\n",
    "        x = np.array(data[start:end+1])\n",
    "        segment_iqr = round(iqr(x), 4)\n",
    "        variability_series.append(segment_iqr)\n",
    "\n",
    "    return variability_series"
   ]
  },
  {
   "cell_type": "code",
   "execution_count": 282,
   "metadata": {},
   "outputs": [],
   "source": [
    "y, _ , df = preprocessing(stock_name, period='max')\n",
    "ts = round(df['Open'], 4)"
   ]
  },
  {
   "cell_type": "code",
   "execution_count": 286,
   "metadata": {},
   "outputs": [],
   "source": [
    "y = sorted(y)"
   ]
  },
  {
   "cell_type": "code",
   "execution_count": 339,
   "metadata": {},
   "outputs": [],
   "source": [
    "series = y"
   ]
  },
  {
   "cell_type": "code",
   "execution_count": 341,
   "metadata": {},
   "outputs": [],
   "source": [
    "series = sorted(series)"
   ]
  },
  {
   "cell_type": "code",
   "execution_count": 343,
   "metadata": {},
   "outputs": [],
   "source": [
    "index_75th = (len(series)-1) * 75 / 100.0\n",
    "index_75th = series[int(index_75th)]\n",
    "index_25th = (len(series)-1) * 25 / 100.0\n",
    "index_25th = series[int(index_25th)]"
   ]
  },
  {
   "cell_type": "code",
   "execution_count": 347,
   "metadata": {},
   "outputs": [
    {
     "data": {
      "text/plain": [
       "208.33333333333334"
      ]
     },
     "execution_count": 347,
     "metadata": {},
     "output_type": "execute_result"
    }
   ],
   "source": [
    "((74-24) / 24)*100"
   ]
  },
  {
   "cell_type": "code",
   "execution_count": 346,
   "metadata": {},
   "outputs": [
    {
     "name": "stdout",
     "output_type": "stream",
     "text": [
      "74 24\n"
     ]
    }
   ],
   "source": [
    "print(index_75th, index_25th)"
   ]
  },
  {
   "cell_type": "code",
   "execution_count": 340,
   "metadata": {},
   "outputs": [
    {
     "ename": "TypeError",
     "evalue": "'int' object is not iterable",
     "output_type": "error",
     "traceback": [
      "\u001b[0;31m---------------------------------------------------------------------------\u001b[0m",
      "\u001b[0;31mTypeError\u001b[0m                                 Traceback (most recent call last)",
      "\u001b[0;32m<ipython-input-340-88379402cbaa>\u001b[0m in \u001b[0;36m<module>\u001b[0;34m\u001b[0m\n\u001b[1;32m      2\u001b[0m \u001b[0;34m\u001b[0m\u001b[0m\n\u001b[1;32m      3\u001b[0m \u001b[0;32mfor\u001b[0m \u001b[0mi\u001b[0m \u001b[0;32min\u001b[0m \u001b[0mseries\u001b[0m\u001b[0;34m:\u001b[0m\u001b[0;34m\u001b[0m\u001b[0;34m\u001b[0m\u001b[0m\n\u001b[0;32m----> 4\u001b[0;31m     \u001b[0mseries_sorted\u001b[0m \u001b[0;34m=\u001b[0m \u001b[0msorted\u001b[0m\u001b[0;34m(\u001b[0m\u001b[0mi\u001b[0m\u001b[0;34m)\u001b[0m\u001b[0;34m\u001b[0m\u001b[0;34m\u001b[0m\u001b[0m\n\u001b[0m\u001b[1;32m      5\u001b[0m     \u001b[0mindex_75th\u001b[0m \u001b[0;34m=\u001b[0m \u001b[0;34m(\u001b[0m\u001b[0mlen\u001b[0m\u001b[0;34m(\u001b[0m\u001b[0mseries_sorted\u001b[0m\u001b[0;34m)\u001b[0m\u001b[0;34m-\u001b[0m\u001b[0;36m1\u001b[0m\u001b[0;34m)\u001b[0m \u001b[0;34m*\u001b[0m \u001b[0;36m75\u001b[0m \u001b[0;34m/\u001b[0m \u001b[0;36m100.0\u001b[0m\u001b[0;34m\u001b[0m\u001b[0;34m\u001b[0m\u001b[0m\n\u001b[1;32m      6\u001b[0m     \u001b[0mindex_75th\u001b[0m \u001b[0;34m=\u001b[0m \u001b[0mseries_sorted\u001b[0m\u001b[0;34m[\u001b[0m\u001b[0mint\u001b[0m\u001b[0;34m(\u001b[0m\u001b[0mindex_75th\u001b[0m\u001b[0;34m)\u001b[0m\u001b[0;34m]\u001b[0m\u001b[0;34m\u001b[0m\u001b[0;34m\u001b[0m\u001b[0m\n",
      "\u001b[0;31mTypeError\u001b[0m: 'int' object is not iterable"
     ]
    }
   ],
   "source": [
    "range_indexes = []\n",
    "\n",
    "for i in series:\n",
    "    series_sorted = sorted(i)\n",
    "    index_75th = (len(series_sorted)-1) * 75 / 100.0\n",
    "    index_75th = series_sorted[int(index_75th)]\n",
    "    index_25th = (len(series_sorted)-1) * 25 / 100.0\n",
    "    index_25th = series_sorted[int(index_25th)]\n",
    "    range_indexes.append((index_25th, index_75th))"
   ]
  },
  {
   "cell_type": "code",
   "execution_count": 307,
   "metadata": {},
   "outputs": [],
   "source": [
    "def get_iqr_start_end_values(data, segments):\n",
    "    \n",
    "    series = []\n",
    "    \n",
    "    for segment in segments:\n",
    "        start_idx, _ , end_idx, _ = segment\n",
    "        series.append(data[start_idx:end_idx])\n",
    "        \n",
    "    range_indexes = []\n",
    "    \n",
    "    for i in series:\n",
    "        series_sorted = sorted(i)\n",
    "        index_75th = (len(series_sorted)-1) * 75 / 100.0\n",
    "        index_75th = series_sorted[int(index_75th)]\n",
    "        index_25th = (len(series_sorted)-1) * 25 / 100.0\n",
    "        index_25th = series_sorted[int(index_25th)]\n",
    "        range_indexes.append((index_25th, index_75th))\n",
    "\n",
    "    return range_indexes"
   ]
  },
  {
   "cell_type": "code",
   "execution_count": 315,
   "metadata": {},
   "outputs": [],
   "source": [
    "def get_change_of_iqr_start_end_values(tuples):\n",
    "    \n",
    "    pct_change = []\n",
    "    \n",
    "    for i in tuples:\n",
    "        pct_change.append(round(((i[1]-i[0]) / i[0])*100, 2))\n",
    "        \n",
    "    return pct_change"
   ]
  },
  {
   "cell_type": "code",
   "execution_count": 311,
   "metadata": {},
   "outputs": [],
   "source": [
    "tuples = get_iqr_start_end_values(y, segments)"
   ]
  },
  {
   "cell_type": "code",
   "execution_count": 316,
   "metadata": {},
   "outputs": [
    {
     "data": {
      "text/plain": [
       "[7.2, 718.02, 41.83, 12.18]"
      ]
     },
     "execution_count": 316,
     "metadata": {},
     "output_type": "execute_result"
    }
   ],
   "source": [
    "get_change_of_iqr_start_end_values(tuples)"
   ]
  },
  {
   "cell_type": "code",
   "execution_count": 302,
   "metadata": {},
   "outputs": [
    {
     "data": {
      "text/plain": [
       "[0.195, 50.721, 174.65, 89.23]"
      ]
     },
     "execution_count": 302,
     "metadata": {},
     "output_type": "execute_result"
    }
   ],
   "source": [
    "calc_variability(y, segments)"
   ]
  },
  {
   "cell_type": "code",
   "execution_count": 306,
   "metadata": {},
   "outputs": [
    {
     "data": {
      "text/plain": [
       "80.5"
      ]
     },
     "execution_count": 306,
     "metadata": {},
     "output_type": "execute_result"
    }
   ],
   "source": [
    "741.5-661.0"
   ]
  },
  {
   "cell_type": "code",
   "execution_count": null,
   "metadata": {},
   "outputs": [],
   "source": []
  }
 ],
 "metadata": {
  "kernelspec": {
   "display_name": "Python 3",
   "language": "python",
   "name": "python3"
  },
  "language_info": {
   "codemirror_mode": {
    "name": "ipython",
    "version": 3
   },
   "file_extension": ".py",
   "mimetype": "text/x-python",
   "name": "python",
   "nbconvert_exporter": "python",
   "pygments_lexer": "ipython3",
   "version": "3.8.3"
  }
 },
 "nbformat": 4,
 "nbformat_minor": 4
}
