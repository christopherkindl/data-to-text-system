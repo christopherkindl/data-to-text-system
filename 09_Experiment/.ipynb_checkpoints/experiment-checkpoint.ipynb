{
 "cells": [
  {
   "cell_type": "markdown",
   "metadata": {},
   "source": [
    "**0. Import Dependencies**"
   ]
  },
  {
   "cell_type": "code",
   "execution_count": 30,
   "metadata": {},
   "outputs": [],
   "source": [
    "# yahoo finance api\n",
    "import yfinance as yf\n",
    "\n",
    "# change point detection models\n",
    "import ruptures as rpt\n",
    "\n",
    "# standard libraries\n",
    "from timeit import default_timer as timer\n",
    "import numpy as np\n",
    "import pandas as pd\n",
    "import matplotlib.pyplot as plt"
   ]
  },
  {
   "cell_type": "code",
   "execution_count": 3,
   "metadata": {},
   "outputs": [],
   "source": [
    "# get stock price \n",
    "def preprocessing(stock_name='TSLA', period='max'):\n",
    "    \n",
    "    '''\n",
    "    1. Input stock name.\n",
    "    2. Return historical closing price as list.\n",
    "    '''\n",
    "\n",
    "    # assign company\n",
    "    hist = yf.Ticker(stock_name)\n",
    "\n",
    "    # get historical stock data\n",
    "    df = hist.history(period)\n",
    "\n",
    "    # convert df column to list\n",
    "    series = list(round(df['Close'], 4))\n",
    "\n",
    "    return series"
   ]
  },
  {
   "cell_type": "markdown",
   "metadata": {},
   "source": [
    "**4. Processing Time**"
   ]
  },
  {
   "cell_type": "code",
   "execution_count": 6,
   "metadata": {},
   "outputs": [],
   "source": [
    "# get stock price of company with longest track record in S&P500 index\n",
    "series = preprocessing(stock_name='GE', period='max')"
   ]
  },
  {
   "cell_type": "code",
   "execution_count": 48,
   "metadata": {},
   "outputs": [],
   "source": [
    "# search methods to test\n",
    "\n",
    "def get_change_points(series, search_method, n_breaks):\n",
    "    '''\n",
    "    1. Input list of stock price, search method and number of change points to detect.\n",
    "    2. Return elapsed time.\n",
    "    '''\n",
    "    # convert list to array\n",
    "    y = np.array(series)\n",
    "    \n",
    "    # assign search method and start stopping time\n",
    "    start = timer()\n",
    "    model = search_method(model=\"l1\").fit(y)\n",
    "    \n",
    "    # detect change points and stop time when finished\n",
    "    breaks = model.predict(n_bkps=n_breaks-1)\n",
    "    end = timer()\n",
    "    \n",
    "    # document time\n",
    "    time_delta = round(end - start, 5)\n",
    "    \n",
    "    return time_delta"
   ]
  },
  {
   "cell_type": "code",
   "execution_count": 13,
   "metadata": {},
   "outputs": [],
   "source": [
    "#search_methods = [rpt.Binseg, rpt.BottomUp, rpt.Window, rpt.Dynp]"
   ]
  },
  {
   "cell_type": "code",
   "execution_count": 43,
   "metadata": {},
   "outputs": [],
   "source": [
    "input_size = []\n",
    "elapsed_time = []\n",
    "\n",
    "tmp_size = len(series[:1000])\n",
    "\n",
    "while tmp_size > 30:\n",
    "    elapsed_time.append(get_change_points(series[:tmp_size], search_methods[0], 4))\n",
    "    input_size.append(tmp_size)\n",
    "    #print('Computed length ', tmp_size)\n",
    "    tmp_size -= 1"
   ]
  },
  {
   "cell_type": "code",
   "execution_count": 44,
   "metadata": {},
   "outputs": [],
   "source": [
    "elapsed_time.reverse()\n",
    "input_size.reverse()"
   ]
  },
  {
   "cell_type": "code",
   "execution_count": 47,
   "metadata": {},
   "outputs": [
    {
     "data": {
      "image/png": "[encoded data removed]",
      "text/plain": [
       "<Figure size 432x288 with 1 Axes>"
      ]
     },
     "metadata": {
      "needs_background": "light"
     },
     "output_type": "display_data"
    }
   ],
   "source": [
    "plt.plot(input_size, elapsed_time)\n",
    "plt.show()"
   ]
  },
  {
   "cell_type": "code",
   "execution_count": null,
   "metadata": {},
   "outputs": [],
   "source": []
  }
 ],
 "metadata": {
  "kernelspec": {
   "display_name": "Python 3",
   "language": "python",
   "name": "python3"
  },
  "language_info": {
   "codemirror_mode": {
    "name": "ipython",
    "version": 3
   },
   "file_extension": ".py",
   "mimetype": "text/x-python",
   "name": "python",
   "nbconvert_exporter": "python",
   "pygments_lexer": "ipython3",
   "version": "3.8.3"
  }
 },
 "nbformat": 4,
 "nbformat_minor": 4
}
