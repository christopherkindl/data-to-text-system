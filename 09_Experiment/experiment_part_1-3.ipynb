{
 "cells": [
  {
   "cell_type": "markdown",
   "metadata": {},
   "source": [
    "**Import dependencies**"
   ]
  },
  {
   "cell_type": "code",
   "execution_count": 1,
   "metadata": {},
   "outputs": [],
   "source": [
    "# yahoo finance api\n",
    "import yfinance as yf\n",
    "\n",
    "# change point detection models\n",
    "import ruptures as rpt\n",
    "\n",
    "# standard libraries\n",
    "from timeit import default_timer as timer\n",
    "import numpy as np\n",
    "import pandas as pd\n",
    "import matplotlib.pyplot as plt"
   ]
  },
  {
   "cell_type": "markdown",
   "metadata": {},
   "source": [
    "**0. Pre-Processing**"
   ]
  },
  {
   "cell_type": "code",
   "execution_count": 26,
   "metadata": {},
   "outputs": [],
   "source": [
    "# get stock price \n",
    "def preprocessing(stock_name, start_date, end_date):\n",
    "    \n",
    "    '''\n",
    "    1. Input stock name and time window.\n",
    "    2. Return historical closing price as list for given time window.\n",
    "    '''\n",
    "\n",
    "    # assign company\n",
    "    data = yf.Ticker(stock_name)\n",
    "    \n",
    "    # get historical stock data during given time window\n",
    "    df = data.history(interval = '1d', start = start_date, end = end_date)\n",
    "\n",
    "    # convert df column to array\n",
    "    series_array = np.array(round(df['Close'], 4))\n",
    "    \n",
    "    # convert df column to list\n",
    "    column = round(df['Close'], 4)\n",
    "\n",
    "    return series_array, column"
   ]
  },
  {
   "cell_type": "code",
   "execution_count": 32,
   "metadata": {},
   "outputs": [],
   "source": [
    "def get_predicted_change_points(stock_name, start_date, end_date, search_method, n_change_points):\n",
    "    '''\n",
    "    1. Input stock name, time window, search method and number of change points to detect.\n",
    "    2. Return index of predicted change points.\n",
    "    '''\n",
    "    # number of change points to detect\n",
    "    n_breaks = n_change_points\n",
    "\n",
    "    # get stock data of given time window as series and df column\n",
    "    series, column = preprocessing(stock_name, start_date, end_date)\n",
    "\n",
    "    # get predicted change points by index\n",
    "    model = search_method(model=\"l1\").fit(series)\n",
    "    change_points = model.predict(n_bkps=n_breaks-1)\n",
    "\n",
    "    return change_points"
   ]
  },
  {
   "cell_type": "code",
   "execution_count": 34,
   "metadata": {},
   "outputs": [],
   "source": [
    "def mean_squared_error(annotated_change_points, predicted_change_points):\n",
    "    '''\n",
    "    1. Input human-labeled change points and predicted change points.\n",
    "    2. Return mean squared error between human-labeled change points and predicted change points.\n",
    "    '''\n",
    "    y = annotated_change_points\n",
    "    y_bar = predicted_change_points\n",
    "    \n",
    "    # variable to store the summation of differences\n",
    "    summation = 0 \n",
    "    \n",
    "    # find total number of items in list\n",
    "    n = len(y) \n",
    "    \n",
    "    # calculate mse values\n",
    "    for i in range (0,n):  \n",
    "        difference = y[i] - y_bar[i]  \n",
    "        squared_difference = difference**2  \n",
    "        summation = summation + squared_difference\n",
    "    \n",
    "    mse = summation/n\n",
    "    \n",
    "    return mse"
   ]
  },
  {
   "cell_type": "markdown",
   "metadata": {},
   "source": [
    "**1. Change Point Precision**"
   ]
  },
  {
   "cell_type": "code",
   "execution_count": 36,
   "metadata": {},
   "outputs": [
    {
     "data": {
      "text/plain": [
       "[600, 670, 756]"
      ]
     },
     "execution_count": 36,
     "metadata": {},
     "output_type": "execute_result"
    }
   ],
   "source": [
    "predicted_change_points = get_predicted_change_points('TSLA', '2018-04-01', '2021-04-01', rpt.Binseg, 3)\n",
    "predicted_change_points"
   ]
  },
  {
   "cell_type": "code",
   "execution_count": 37,
   "metadata": {},
   "outputs": [],
   "source": [
    "annotated_change_points = [550, 600, 700]"
   ]
  },
  {
   "cell_type": "code",
   "execution_count": 38,
   "metadata": {},
   "outputs": [
    {
     "data": {
      "text/plain": [
       "3512.0"
      ]
     },
     "execution_count": 38,
     "metadata": {},
     "output_type": "execute_result"
    }
   ],
   "source": [
    "mean_squared_error(annotated_change_points, predicted_change_points)"
   ]
  },
  {
   "cell_type": "code",
   "execution_count": 29,
   "metadata": {},
   "outputs": [
    {
     "data": {
      "text/plain": [
       "DatetimeIndex(['2020-01-21', '2020-08-17', '2020-11-24', '2021-03-31'], dtype='datetime64[ns]', freq=None)"
      ]
     },
     "execution_count": 29,
     "metadata": {},
     "output_type": "execute_result"
    }
   ],
   "source": [
    "change_points_converted = []\n",
    "for i in change_points:\n",
    "    change_points_converted.append(column.index[i-1])\n",
    "change_points_converted = pd.to_datetime(change_points_converted)\n",
    "change_points_converted"
   ]
  },
  {
   "cell_type": "code",
   "execution_count": null,
   "metadata": {},
   "outputs": [],
   "source": []
  }
 ],
 "metadata": {
  "kernelspec": {
   "display_name": "Python 3",
   "language": "python",
   "name": "python3"
  },
  "language_info": {
   "codemirror_mode": {
    "name": "ipython",
    "version": 3
   },
   "file_extension": ".py",
   "mimetype": "text/x-python",
   "name": "python",
   "nbconvert_exporter": "python",
   "pygments_lexer": "ipython3",
   "version": "3.8.3"
  }
 },
 "nbformat": 4,
 "nbformat_minor": 4
}
