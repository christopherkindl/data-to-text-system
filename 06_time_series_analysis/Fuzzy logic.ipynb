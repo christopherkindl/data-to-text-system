{
 "cells": [
  {
   "cell_type": "code",
   "execution_count": 629,
   "metadata": {},
   "outputs": [],
   "source": [
    "import yfinance as yf\n",
    "import segment\n",
    "import fit\n",
    "from scipy.stats import linregress, iqr\n",
    "import numpy as np\n",
    "import pandas as pd\n",
    "import fuzzylogic\n",
    "import zadeh\n",
    "from matplotlib import pyplot\n",
    "from fuzzylogic.classes import Domain\n",
    "from fuzzylogic.functions import R, S, alpha\n",
    "from fuzzylogic.classes import Domain\n",
    "from fuzzylogic.functions import alpha, triangular, bounded_linear, trapezoid\n",
    "from fuzzylogic.hedges import plus, minus, very\n",
    "import segment\n",
    "import wrappers\n",
    "import fit"
   ]
  },
  {
   "cell_type": "markdown",
   "metadata": {},
   "source": [
    "## Fuzzy Slope"
   ]
  },
  {
   "cell_type": "code",
   "execution_count": 226,
   "metadata": {},
   "outputs": [],
   "source": [
    "slope = Domain(\"slope\", -90, 90, res=0.01)"
   ]
  },
  {
   "cell_type": "code",
   "execution_count": 227,
   "metadata": {},
   "outputs": [],
   "source": [
    "slope.quickly_decreasing = S(-90+11.25, -90+32.5)\n",
    "slope.decreasing = triangular(-77.5, -35)\n",
    "slope.slowly_decreasing = triangular(-55, -12.5)\n",
    "slope.constant = triangular(-32.5, 32.5)\n",
    "slope.slowly_increasing = triangular(12.5, 55)\n",
    "slope.increasing = triangular(35, 77.5)\n",
    "slope.quickly_increasing = R(90-32.5, 90-11.25)"
   ]
  },
  {
   "cell_type": "code",
   "execution_count": 44,
   "metadata": {},
   "outputs": [
    {
     "data": {
      "image/png": "[encoded data removed]",
      "text/plain": [
       "<Figure size 432x288 with 1 Axes>"
      ]
     },
     "metadata": {
      "needs_background": "light"
     },
     "output_type": "display_data"
    }
   ],
   "source": [
    "slope.quickly_decreasing.plot()\n",
    "slope.decreasing.plot()\n",
    "slope.slowly_decreasing.plot()\n",
    "slope.quickly_increasing.plot()\n",
    "slope.increasing.plot()\n",
    "slope.slowly_increasing.plot()\n",
    "slope.constant.plot()"
   ]
  },
  {
   "cell_type": "code",
   "execution_count": 45,
   "metadata": {},
   "outputs": [],
   "source": [
    "series = [i for i in range(90)]\n",
    "length = len(series)"
   ]
  },
  {
   "cell_type": "code",
   "execution_count": 730,
   "metadata": {},
   "outputs": [],
   "source": [
    "def fuzzy_slope(series):\n",
    "    \n",
    "    total_sum = {'quickly decreasing' : [],\n",
    "                 'decreasing' : [],\n",
    "                 'slowly decreasing' : [],\n",
    "                 'constant' : [],\n",
    "                 'slowly increasing' : [],\n",
    "                 'increasing' : [],\n",
    "                 'quickly increasing' : []}\n",
    "    \n",
    "    indexes = {'quickly decreasing' : [],\n",
    "               'decreasing' : [],\n",
    "               'slowly decreasing' : [],\n",
    "               'constant' : [],\n",
    "               'slowly increasing' : [],\n",
    "               'increasing' : [],\n",
    "               'quickly increasing' : []}\n",
    "\n",
    "    for index, i in enumerate(series):\n",
    "        total_sum['quickly decreasing'].append(round(slope.quickly_decreasing(i), 2))\n",
    "        if round(slope.quickly_decreasing(i), 2) > 0:\n",
    "            indexes['quickly decreasing'].append(index)\n",
    "            \n",
    "        total_sum['decreasing'].append(round(slope.decreasing(i), 2))\n",
    "        if round(slope.decreasing(i), 2) > 0:\n",
    "            indexes['decreasing'].append(index)\n",
    "        \n",
    "        total_sum['slowly decreasing'].append(round(slope.slowly_decreasing(i), 2))\n",
    "        if round(slope.slowly_decreasing(i), 2) > 0:\n",
    "            indexes['slowly decreasing'].append(index)\n",
    "        \n",
    "        total_sum['constant'].append(round(slope.constant(i), 2))\n",
    "        if round(slope.constant(i), 2) > 0:\n",
    "            indexes['constant'].append(index)\n",
    "            \n",
    "        total_sum['slowly increasing'].append(round(slope.slowly_increasing(i), 2))\n",
    "        if round(slope.slowly_increasing(i), 2) > 0:\n",
    "            indexes['slowly increasing'].append(index)\n",
    "            \n",
    "        total_sum['increasing'].append(round(slope.increasing(i), 2))\n",
    "        if round(slope.increasing(i), 2) > 0:\n",
    "            indexes['increasing'].append(index)\n",
    "            \n",
    "        total_sum['quickly increasing'].append(round(slope.quickly_increasing(i), 2))\n",
    "        if round(slope.quickly_increasing(i), 2) > 0:\n",
    "            indexes['quickly increasing'].append(index)\n",
    "        \n",
    "    number_of_segments = len(series)\n",
    "    \n",
    "    # calculate truth value\n",
    "    n = 0\n",
    "    \n",
    "    for i in total_sum.get(max(total_sum, key = lambda x: sum(total_sum.get(x)))):\n",
    "        if i != 0:\n",
    "            n += i\n",
    "            \n",
    "    # calculate quantifier\n",
    "    q = 0\n",
    "    \n",
    "    for i in total_sum.get(max(total_sum, key = lambda x: sum(total_sum.get(x)))):\n",
    "        if i != 0:\n",
    "            q += 1\n",
    "    \n",
    "    \n",
    "    \n",
    "    value = round((q / len(series)), 2)\n",
    "    \n",
    "    quantifier_value = quantifier(value)\n",
    "    \n",
    "    return max(total_sum, key = lambda x: sum(total_sum.get(x))), round(sum(total_sum.get(max(total_sum, key = lambda x: sum(total_sum.get(x))))), 2), round((n/number_of_segments), 2), indexes.get(max(total_sum, key = lambda x: sum(total_sum.get(x)))), quantifier_value"
   ]
  },
  {
   "cell_type": "code",
   "execution_count": null,
   "metadata": {},
   "outputs": [],
   "source": [
    "fuzzy_slope()"
   ]
  },
  {
   "cell_type": "markdown",
   "metadata": {},
   "source": [
    "## Fuzzy Duration"
   ]
  },
  {
   "cell_type": "code",
   "execution_count": 47,
   "metadata": {
    "scrolled": true
   },
   "outputs": [
    {
     "data": {
      "image/png": "[encoded data removed]",
      "text/plain": [
       "<Figure size 432x288 with 1 Axes>"
      ]
     },
     "metadata": {
      "needs_background": "light"
     },
     "output_type": "display_data"
    }
   ],
   "source": [
    "duration = Domain(\"duration\", 0, 180, res=0.01)\n",
    "duration.very_short = S(0+7, 0+14)\n",
    "duration.short = trapezoid(7, 14, 35, 42)\n",
    "duration.medium = trapezoid(35, 42, 42+21, 42+28)\n",
    "duration.long = trapezoid(63, 70, 70+21, 70+28)\n",
    "duration.very_long = R(91, 98)\n",
    "duration.very_short.plot()\n",
    "duration.short.plot()\n",
    "duration.medium.plot()\n",
    "duration.long.plot()\n",
    "duration.very_long.plot()\n",
    "\n",
    "# segment length / sum of total length"
   ]
  },
  {
   "cell_type": "code",
   "execution_count": 412,
   "metadata": {},
   "outputs": [],
   "source": [
    "def fuzzy_duration(series):\n",
    "    \n",
    "    total_sum = {'very short' : [],\n",
    "                 'short' : [],\n",
    "                 'medium' : [],\n",
    "                 'long' : [],\n",
    "                 'very long' : []}\n",
    "\n",
    "    for i in series:\n",
    "        total_sum['very short'].append(round(duration.very_short(i), 2))\n",
    "        total_sum['short'].append(round(duration.short(i), 2))\n",
    "        total_sum['medium'].append(round(duration.medium(i), 2))\n",
    "        total_sum['long'].append(round(duration.long(i), 2))\n",
    "        total_sum['very long'].append(round(duration.very_long(i), 2))\n",
    "        \n",
    "        \n",
    "    number_of_segments = len(series)\n",
    "    \n",
    "    n = 0\n",
    "    \n",
    "    for i in total_sum.get(max(total_sum, key = lambda x: sum(total_sum.get(x)))):\n",
    "        if i != 0:\n",
    "            n += i\n",
    "    \n",
    "    return max(total_sum, key = lambda x: sum(total_sum.get(x))), sum(total_sum.get(max(total_sum, key = lambda x: sum(total_sum.get(x)))))"
   ]
  },
  {
   "cell_type": "markdown",
   "metadata": {},
   "source": [
    "## Fuzzy Variability"
   ]
  },
  {
   "cell_type": "code",
   "execution_count": 416,
   "metadata": {},
   "outputs": [
    {
     "data": {
      "image/png": "[encoded data removed]",
      "text/plain": [
       "<Figure size 432x288 with 1 Axes>"
      ]
     },
     "metadata": {
      "needs_background": "light"
     },
     "output_type": "display_data"
    }
   ],
   "source": [
    "variability = Domain(\"variability\", 0, 1, res=0.01)\n",
    "variability.very_high = R(0.75, 4/5)\n",
    "variability.high = trapezoid(0.55, 3/5, 0.75, 4/5)\n",
    "variability.medium = trapezoid(0.35, 2/5, 0.55, 3/5)\n",
    "variability.low = trapezoid(0.15, 1/5, 0.35, 2/5)\n",
    "variability.very_low = S(0.15, 1/5)\n",
    "\n",
    "#plot\n",
    "variability.very_high.plot()\n",
    "variability.high.plot()\n",
    "variability.medium.plot()\n",
    "variability.low.plot()\n",
    "variability.very_low.plot()"
   ]
  },
  {
   "cell_type": "code",
   "execution_count": 414,
   "metadata": {},
   "outputs": [],
   "source": [
    "def fuzzy_variability(series):\n",
    "    \n",
    "    total_sum = {'very high' : [],\n",
    "                 'high' : [],\n",
    "                 'medium' : [],\n",
    "                 'low' : [],\n",
    "                 'very low' : []}\n",
    "    \n",
    "    \n",
    "    for i in series:\n",
    "        total_sum['very high'].append(round(variability.very_high(i), 2))\n",
    "        total_sum['high'].append(round(variability.high(i), 2))\n",
    "        total_sum['medium'].append(round(variability.medium(i), 2))\n",
    "        total_sum['low'].append(round(variability.low(i), 2))\n",
    "        total_sum['very low'].append(round(variability.very_low(i), 2))\n",
    "        \n",
    "        \n",
    "    number_of_segments = len(series)\n",
    "    \n",
    "    n = 0\n",
    "    \n",
    "    for i in total_sum.get(max(total_sum, key = lambda x: sum(total_sum.get(x)))):\n",
    "        if i != 0:\n",
    "            n += i\n",
    "    \n",
    "    return max(total_sum, key = lambda x: sum(total_sum.get(x))), sum(total_sum.get(max(total_sum, key = lambda x: sum(total_sum.get(x)))))\n",
    "    \n",
    "    \n"
   ]
  },
  {
   "cell_type": "code",
   "execution_count": 764,
   "metadata": {},
   "outputs": [],
   "source": [
    "def quantifier(value):\n",
    "    \n",
    "    quantifier = {\n",
    "    'almost all of ' : 0,\n",
    "    'most of ' : 0,\n",
    "    'at least a half of ' : 0,\n",
    "    'at least a third of ' : 0,\n",
    "    'some of ' : 0,\n",
    "    'none of ' : 0\n",
    "    }\n",
    "\n",
    "    if value >= 0.85:\n",
    "        quantifier['almost all of '] += 1\n",
    "    if value >= 0.7:\n",
    "        quantifier['most of '] += 1\n",
    "    if value >= 0.5:\n",
    "        quantifier['at least a half of '] += 1\n",
    "    if value >= 0.3:\n",
    "        quantifier['at least a third of '] += 1\n",
    "    if value > 0:\n",
    "        quantifier['some of '] += 1\n",
    "    if value == 0:\n",
    "        quantifier['none of '] += 1\n",
    "\n",
    "    quantifier_value = max(quantifier, key = quantifier.get)\n",
    "\n",
    "    return quantifier_value"
   ]
  },
  {
   "cell_type": "code",
   "execution_count": 52,
   "metadata": {},
   "outputs": [],
   "source": [
    "def summary_L1(series, fuzzy_func, quantifier):\n",
    "    \n",
    "    elementA0 = '{{quantifier_related_to_first_variable}}'\n",
    "    elementA1 = 'trends are '\n",
    "    elementA2 = '{{slope_variable}}'\n",
    "    elementA3 = '.'\n",
    "    \n",
    "    fuzzy = fuzzy_func(series)[2]\n",
    "    elementA0 = quantifier(fuzzy)\n",
    "    elementA2 = fuzzy_func(series)[0]\n",
    "    \n",
    "    sentence = elementA0 + elementA1 + elementA2 + elementA3\n",
    "    \n",
    "    return sentence"
   ]
  },
  {
   "cell_type": "code",
   "execution_count": 53,
   "metadata": {},
   "outputs": [],
   "source": [
    "def preprocessing(stock_name='TSLA', period='max'):\n",
    "    \n",
    "    '''\n",
    "    1. Input stock name.\n",
    "    2. Return historical prices and currency of stock.\n",
    "    '''\n",
    "\n",
    "    # get stock data\n",
    "    hist = yf.Ticker(stock_name)\n",
    "\n",
    "    # get historical market data\n",
    "    df = hist.history(period)\n",
    "    \n",
    "    currency = hist.info['currency']\n",
    "\n",
    "    series = list(round(df['Open'], 2))\n",
    "\n",
    "    return series, currency, df"
   ]
  },
  {
   "cell_type": "code",
   "execution_count": 54,
   "metadata": {},
   "outputs": [],
   "source": [
    "def suffix(d):\n",
    "    return 'th' if 11<=d<=13 else {1:'st',2:'nd',3:'rd'}.get(d%10, 'th')\n",
    "\n",
    "def custom_strftime(t):\n",
    "    \n",
    "    format = '%B {S} %Y'\n",
    "    string_date = t.strftime(format).replace('{S}', str(t.day) + suffix(t.day))\n",
    "    \n",
    "    return string_date"
   ]
  },
  {
   "cell_type": "code",
   "execution_count": 55,
   "metadata": {},
   "outputs": [],
   "source": [
    "def max_price(df):\n",
    "    \n",
    "    max_value = 0 \n",
    "    index = None\n",
    "    \n",
    "\n",
    "    for i, value in enumerate(df['Open']):\n",
    "        if value > max_value:\n",
    "            max_value = round(value, 2)\n",
    "            index = df.Open.index[i].date()\n",
    "            string_date = custom_strftime(index)\n",
    "\n",
    "    return max_value, string_date"
   ]
  },
  {
   "cell_type": "code",
   "execution_count": 56,
   "metadata": {},
   "outputs": [],
   "source": [
    "def min_price(df):\n",
    "    \n",
    "    min_value = 999999 \n",
    "    index = 0\n",
    "\n",
    "    for i, value in enumerate(df['Open']):\n",
    "        if value < min_value:\n",
    "            min_value = round(value, 2)\n",
    "            index = df.Open.index[i].date()\n",
    "            string_date = custom_strftime(index)\n",
    "\n",
    "    return min_value, string_date"
   ]
  },
  {
   "cell_type": "code",
   "execution_count": 57,
   "metadata": {},
   "outputs": [],
   "source": [
    "def min_date(df):\n",
    "    \n",
    "    date = custom_strftime(df.index.min())\n",
    "\n",
    "    return date"
   ]
  },
  {
   "cell_type": "code",
   "execution_count": 58,
   "metadata": {},
   "outputs": [],
   "source": [
    "def max_date(df):\n",
    "    \n",
    "    date = custom_strftime(df.index.max())\n",
    "\n",
    "    return date"
   ]
  },
  {
   "cell_type": "code",
   "execution_count": 59,
   "metadata": {},
   "outputs": [],
   "source": [
    "def summary_price(df):\n",
    "    \n",
    "    opening = 'During the time period of '\n",
    "    mindate = min_date(df)\n",
    "    maxdate = max_date(df)\n",
    "    glue = ' and '\n",
    "    date_element = ' the stock price peaked at '\n",
    "    max_value = max_price(df)[0]\n",
    "    glue_2 = ' on '\n",
    "    date_1 = max_price(df)[1]\n",
    "    glue_3 = ' and hit its lowest value of '\n",
    "    min_value = min_price(df)[0]\n",
    "    glue_4 = ' on '\n",
    "    date_2 = min_price(df)[1]\n",
    "    eos = '.'\n",
    "    \n",
    "    sentence0 = opening + mindate + glue + maxdate + date_element + str(max_value) + glue_2 + date_1 + glue_3 \\\n",
    "                + str(min_value) + glue_4 + date_2 + eos\n",
    "    \n",
    "    return sentence0"
   ]
  },
  {
   "cell_type": "code",
   "execution_count": 60,
   "metadata": {},
   "outputs": [
    {
     "data": {
      "text/plain": [
       "Timestamp('2020-01-02 00:00:00')"
      ]
     },
     "execution_count": 60,
     "metadata": {},
     "output_type": "execute_result"
    }
   ],
   "source": [
    "data = yf.Ticker('TSLA')\n",
    "tickerDF = data.history(interval = '1d', start = '2020-01-01', end = '2021-01-01')\n",
    "tickerDF.index.min()"
   ]
  },
  {
   "cell_type": "code",
   "execution_count": 61,
   "metadata": {},
   "outputs": [
    {
     "data": {
      "text/plain": [
       "'During the time period of January 2nd 2020 and December 31st 2020 the stock price peaked at 699.99 on December 31st 2020 and hit its lowest value of 74.94 on March 19th 2020.'"
      ]
     },
     "execution_count": 61,
     "metadata": {},
     "output_type": "execute_result"
    }
   ],
   "source": [
    "summary_price(tickerDF)"
   ]
  },
  {
   "cell_type": "markdown",
   "metadata": {},
   "source": [
    "## Segmentation"
   ]
  },
  {
   "cell_type": "code",
   "execution_count": 18,
   "metadata": {},
   "outputs": [],
   "source": [
    "start_date = '2010-06-30'\n",
    "end_date = '2021-06-17'\n",
    "max_error = 100\n",
    "\n",
    "def segment_detection(df, start_date, end_date, max_error):\n",
    "    \n",
    "    start = df.index.get_loc(start_date)\n",
    "    end = df.index.get_loc(end_date)\n",
    "    data = list(round(df.Close, 2))\n",
    "    segments = segment.bottomupsegment(data[start:end], fit.interpolate, fit.sumsquared_error, max_error)\n",
    "    \n",
    "    return segments, data[start:end]"
   ]
  },
  {
   "cell_type": "code",
   "execution_count": 21,
   "metadata": {},
   "outputs": [],
   "source": [
    "df = preprocessing()[2]"
   ]
  },
  {
   "cell_type": "code",
   "execution_count": 67,
   "metadata": {},
   "outputs": [
    {
     "name": "stderr",
     "output_type": "stream",
     "text": [
      "/Users/christopherkindl/working/nlp-dissertation/06_time_series_analysis/wrappers.py:10: FutureWarning: `rcond` parameter will change to the default of machine precision times ``max(M, N)`` where M and N are the input matrix dimensions.\n",
      "To use the future default and silence this warning we advise to pass `rcond=None`, to keep using the old, explicitly pass `rcond=-1`.\n",
      "  (p,residuals,rank,s) = lstsq(A,y)\n"
     ]
    },
    {
     "name": "stdout",
     "output_type": "stream",
     "text": [
      "168\n"
     ]
    }
   ],
   "source": [
    "segments, data = segment_detection(df, start_date, end_date, max_error)"
   ]
  },
  {
   "cell_type": "markdown",
   "metadata": {},
   "source": [
    "## Evaluation functions"
   ]
  },
  {
   "cell_type": "markdown",
   "metadata": {},
   "source": [
    "**Level 1**"
   ]
  },
  {
   "cell_type": "code",
   "execution_count": 652,
   "metadata": {},
   "outputs": [
    {
     "data": {
      "text/plain": [
       "117"
      ]
     },
     "execution_count": 652,
     "metadata": {},
     "output_type": "execute_result"
    }
   ],
   "source": [
    "len(segments[0])"
   ]
  },
  {
   "cell_type": "code",
   "execution_count": 486,
   "metadata": {},
   "outputs": [],
   "source": [
    "def calc_duration(segments, filtering):\n",
    "    '''\n",
    "    1. Input segment series.\n",
    "    2. Return segment-specific duration.\n",
    "    '''\n",
    "    duration_series = []\n",
    "    for i in range(len(segments)):\n",
    "        if i in filtering:\n",
    "            start, _, end, _ = segments[i]\n",
    "            length = end-start\n",
    "            duration_series.append(length)\n",
    "            \n",
    "    return duration_series"
   ]
  },
  {
   "cell_type": "code",
   "execution_count": 466,
   "metadata": {},
   "outputs": [],
   "source": [
    "def calc_slope(segments):\n",
    "    '''\n",
    "    1. Input segment series.\n",
    "    2. Return angle of slope.\n",
    "    '''\n",
    "    slope_series = []\n",
    "    for segment in segments:\n",
    "        x0, y0, x1, y1 = segment\n",
    "        angle = round((np.rad2deg(np.arctan2(y1 - y0, x1 - x0))), 2)\n",
    "        slope_series.append(angle)\n",
    "        \n",
    "    return slope_series"
   ]
  },
  {
   "cell_type": "code",
   "execution_count": 490,
   "metadata": {},
   "outputs": [],
   "source": [
    "def calc_variability(data, segments, filtering):\n",
    "    '''\n",
    "    1. Input value range as array.\n",
    "    2. Return interquartile range.\n",
    "    '''\n",
    "    variability_series = []\n",
    "\n",
    "    for i in range(len(segments)):\n",
    "        if i in filtering:\n",
    "            start, _, end, _ = segments[i]\n",
    "            x = np.array(data[start:end+1])\n",
    "            #segment_iqr = round(iqr(x), 4)\n",
    "            segment_sd = np.std(x)\n",
    "            segment_avg = np.average(x)\n",
    "            coefficient_of_variance = round((segment_sd / segment_avg), 2)\n",
    "            variability_series.append(coefficient_of_variance)\n",
    "            \n",
    "    return variability_series"
   ]
  },
  {
   "cell_type": "markdown",
   "metadata": {},
   "source": [
    "**Level 2**"
   ]
  },
  {
   "cell_type": "code",
   "execution_count": 502,
   "metadata": {},
   "outputs": [],
   "source": [
    "def calc_duration_L2(segments, filtering):\n",
    "    '''\n",
    "    1. Input segment series.\n",
    "    2. Return segment-specific duration.\n",
    "    '''\n",
    "    duration_series = []\n",
    "    for i in range(len(segments)):\n",
    "        if i not in filtering:\n",
    "            start, _, end, _ = segments[i]\n",
    "            length = end-start\n",
    "            duration_series.append(length)\n",
    "            \n",
    "    return duration_series"
   ]
  },
  {
   "cell_type": "code",
   "execution_count": 659,
   "metadata": {},
   "outputs": [],
   "source": [
    "subsegment_calculations_slope_L2 = calc_slope_L2(segments[1], filtering)\n",
    "subsegment_calculations_slope_L2.append(calc_slope_L2(segments[1], filtering))"
   ]
  },
  {
   "cell_type": "code",
   "execution_count": null,
   "metadata": {},
   "outputs": [],
   "source": [
    "for subsegment in subsegment_calculations_slope_L2:\n",
    "    value = round((len(subsegment)/len()), 2)\n",
    "    q = quantifier(value)"
   ]
  },
  {
   "cell_type": "code",
   "execution_count": 655,
   "metadata": {},
   "outputs": [
    {
     "data": {
      "text/plain": [
       "[-33.42,\n",
       " -5.26,\n",
       " -0.08,\n",
       " -2.7,\n",
       " -9.31,\n",
       " 37.23,\n",
       " 3.84,\n",
       " 0.38,\n",
       " 5.82,\n",
       " -1.91,\n",
       " 4.57,\n",
       " 18.26,\n",
       " 6.84,\n",
       " -0.79,\n",
       " 0.67,\n",
       " 1.26,\n",
       " -0.57,\n",
       " 8.53,\n",
       " 6.28,\n",
       " 0.11,\n",
       " -30.96,\n",
       " -5.71,\n",
       " -5.33,\n",
       " -3.24,\n",
       " 0.0,\n",
       " -0.86,\n",
       " -1.72,\n",
       " 4.57,\n",
       " 1.72,\n",
       " -5.71,\n",
       " -24.23,\n",
       " -1.72,\n",
       " 30.11,\n",
       " -7.97,\n",
       " -23.75,\n",
       " -7.13,\n",
       " 12.95,\n",
       " 2.67,\n",
       " -4.76,\n",
       " -2.86,\n",
       " 12.95,\n",
       " -11.31,\n",
       " 6.28,\n",
       " 2.86,\n",
       " 18.78,\n",
       " -17.74,\n",
       " 17.74,\n",
       " -7.03,\n",
       " -1.81,\n",
       " 5.71,\n",
       " 4.57,\n",
       " 2.48,\n",
       " -13.5,\n",
       " -5.71,\n",
       " -3.29,\n",
       " -23.27,\n",
       " 0.57,\n",
       " 6.5,\n",
       " -12.95,\n",
       " 0.86,\n",
       " -0.8,\n",
       " -3.43,\n",
       " -1.72,\n",
       " 11.75,\n",
       " -13.5,\n",
       " -2.0,\n",
       " -30.96,\n",
       " -1.15,\n",
       " 6.09,\n",
       " 7.41,\n",
       " -3.32,\n",
       " -0.49,\n",
       " -1.86,\n",
       " 5.28,\n",
       " -4.0,\n",
       " 27.47,\n",
       " -4.0,\n",
       " -3.24,\n",
       " 1.43,\n",
       " 8.34,\n",
       " 0.57,\n",
       " 5.14,\n",
       " 1.34,\n",
       " -0.57,\n",
       " -18.26,\n",
       " 0.76,\n",
       " -0.34,\n",
       " 16.7,\n",
       " -0.81,\n",
       " 8.08,\n",
       " 0.72,\n",
       " -6.28,\n",
       " 1.15,\n",
       " 3.24,\n",
       " -8.53,\n",
       " -34.22,\n",
       " 10.76,\n",
       " -18.78,\n",
       " 2.75,\n",
       " 10.02,\n",
       " -3.21,\n",
       " -17.22,\n",
       " 2.48,\n",
       " 0.57,\n",
       " 4.35,\n",
       " 50.43,\n",
       " 4.57,\n",
       " -33.02,\n",
       " 10.2,\n",
       " -5.71,\n",
       " 12.23,\n",
       " -5.14,\n",
       " 24.7,\n",
       " -1.72,\n",
       " 17.57,\n",
       " 9.09,\n",
       " -6.28,\n",
       " 17.22,\n",
       " -9.09,\n",
       " 36.87,\n",
       " -3.24,\n",
       " 5.14,\n",
       " 44.71,\n",
       " -38.66,\n",
       " 3.43,\n",
       " 69.81,\n",
       " 55.77,\n",
       " 65.65,\n",
       " -42.3,\n",
       " 17.74,\n",
       " 55.95,\n",
       " -17.22,\n",
       " -4.0]"
      ]
     },
     "execution_count": 655,
     "metadata": {},
     "output_type": "execute_result"
    }
   ],
   "source": [
    "calc_slope_L2(segments[1], filtering)"
   ]
  },
  {
   "cell_type": "code",
   "execution_count": 503,
   "metadata": {},
   "outputs": [],
   "source": [
    "def calc_slope_L2(segments, filtering):\n",
    "    '''\n",
    "    1. Input segment series.\n",
    "    2. Return angle of slope.\n",
    "    '''\n",
    "    slope_series = []\n",
    "    for i in range(len(segments)):\n",
    "        if i not in filtering:\n",
    "            x0, y0, x1, y1 = segments[i]\n",
    "            angle = round((np.rad2deg(np.arctan2(y1 - y0, x1 - x0))), 2)\n",
    "            slope_series.append(angle)\n",
    "        \n",
    "    return slope_series"
   ]
  },
  {
   "cell_type": "code",
   "execution_count": 504,
   "metadata": {},
   "outputs": [],
   "source": [
    "def calc_variability_L2(data, segments, filtering):\n",
    "    '''\n",
    "    1. Input value range as array.\n",
    "    2. Return interquartile range.\n",
    "    '''\n",
    "    variability_series = []\n",
    "\n",
    "    for i in range(len(segments)):\n",
    "        if i not in filtering:\n",
    "            start, _, end, _ = segments[i]\n",
    "            x = np.array(data[start:end+1])\n",
    "            #segment_iqr = round(iqr(x), 4)\n",
    "            segment_sd = np.std(x)\n",
    "            segment_avg = np.average(x)\n",
    "            coefficient_of_variance = round((segment_sd / segment_avg), 2)\n",
    "            variability_series.append(coefficient_of_variance)\n",
    "            \n",
    "    return variability_series"
   ]
  },
  {
   "cell_type": "code",
   "execution_count": 74,
   "metadata": {},
   "outputs": [],
   "source": [
    "#def summary_L2(eval_funcL1, eval_funcL2, eval_funcL3, fuzzy_funcL1, fuzzy_funcL2, fuzzy_funcL3, segments, data):\n",
    "#    \n",
    "#    # run first evaluation function\n",
    "#    series = eval_funcL1(segments)\n",
    "#    \n",
    "#    # returns indexes of first evaluation function based on output above\n",
    "#    filtered_series = fuzzy_funcL1(series)[3]\n",
    "#    \n",
    "#    element1 = fuzzy_funcL1(series)[0]\n",
    "#    element2 = ' trends are '\n",
    "#    element3 = 'VARIABLE1'\n",
    "#    element4 = ' and '\n",
    "#    element5 = 'VARIABLE2'\n",
    "#    element6 = ' variability'\n",
    "#    eos = '.'\n",
    "#    \n",
    "#    # evaluate variable 1\n",
    "#    series_preprocessed = eval_funcL2(segments, filtered_series)\n",
    "#    element3 = fuzzy_funcL2(series_preprocessed)[0]\n",
    "#    \n",
    "#    # evaluate variable 2\n",
    "#    series_preprocessed = eval_funcL3(data, segments, filtered_series)\n",
    "#    element5 = fuzzy_funcL3(series_preprocessed)[0]\n",
    "#    \n",
    "#    sentence = element1 + element2 + element3 + element4 + element5 + element6 + eos\n",
    "#    \n",
    "#    return sentence"
   ]
  },
  {
   "cell_type": "markdown",
   "metadata": {},
   "source": [
    "## Chronological Summaries"
   ]
  },
  {
   "cell_type": "code",
   "execution_count": 603,
   "metadata": {},
   "outputs": [],
   "source": [
    "# --- PART 0 ---\n",
    "tuple_series = columns_to_tuples(df.index, df.Close)"
   ]
  },
  {
   "cell_type": "code",
   "execution_count": 122,
   "metadata": {},
   "outputs": [],
   "source": [
    "def length_of_df(df):\n",
    "    \n",
    "    length = len(df)\n",
    "    \n",
    "    if length >= 7 and length < 60:\n",
    "        segment_range = 7\n",
    "    if length >= 60 and length < 180:\n",
    "        segment_range = 30\n",
    "    if length >= 180 and length < 365:\n",
    "        segment_range = 90\n",
    "    if length >= 365:\n",
    "        segment_range = 365\n",
    "    \n",
    "    return segment_range"
   ]
  },
  {
   "cell_type": "code",
   "execution_count": 604,
   "metadata": {},
   "outputs": [
    {
     "data": {
      "text/plain": [
       "2780"
      ]
     },
     "execution_count": 604,
     "metadata": {},
     "output_type": "execute_result"
    }
   ],
   "source": [
    "len(df)"
   ]
  },
  {
   "cell_type": "code",
   "execution_count": 606,
   "metadata": {},
   "outputs": [],
   "source": [
    "tuple_series = segment_divider_tuples(tuple_series, 365)"
   ]
  },
  {
   "cell_type": "code",
   "execution_count": 179,
   "metadata": {},
   "outputs": [],
   "source": [
    "# transform to function\n",
    "# integrate tuples\n",
    "\n",
    "# ---- PART 1 ------\n",
    "\n",
    "def segment_divider_tuples(tuple_series, segment_range):\n",
    "    day_counter = segment_range\n",
    "\n",
    "    tuple_sublist = [[]]\n",
    "\n",
    "    for date, i in tuple_series:\n",
    "        tuple_sublist[-1].append((date, i))\n",
    "        day_counter -= 1\n",
    "        if day_counter == 0:\n",
    "            tuple_sublist.append([])\n",
    "            day_counter = segment_range\n",
    "    \n",
    "    return tuple_sublist"
   ]
  },
  {
   "cell_type": "code",
   "execution_count": 129,
   "metadata": {},
   "outputs": [],
   "source": [
    "def segment_divider(series, segment_range):\n",
    "    day_counter = segment_range\n",
    "\n",
    "    sublist = [[]]\n",
    "\n",
    "    for i in series:\n",
    "        sublist[-1].append(i)\n",
    "        day_counter -= 1\n",
    "        if day_counter == 0:\n",
    "            sublist.append([])\n",
    "            day_counter = segment_range\n",
    "    \n",
    "    return sublist"
   ]
  },
  {
   "cell_type": "code",
   "execution_count": 165,
   "metadata": {},
   "outputs": [],
   "source": [
    "max_error = 0.01"
   ]
  },
  {
   "cell_type": "code",
   "execution_count": 618,
   "metadata": {},
   "outputs": [],
   "source": [
    "# --- PART 2 ---\n",
    "\n",
    "def list_transformation(tuple_series):\n",
    "    \n",
    "    # retrieve only numeric values of tuple series\n",
    "    series = []\n",
    "    \n",
    "    for lis in tuple_series:\n",
    "        series.append([])\n",
    "        for value in lis:\n",
    "            series[-1].append(value[-1])\n",
    "            \n",
    "    return series"
   ]
  },
  {
   "cell_type": "code",
   "execution_count": 619,
   "metadata": {},
   "outputs": [],
   "source": [
    "list_of_lists = list_transformation(tuple_series)"
   ]
  },
  {
   "cell_type": "code",
   "execution_count": 622,
   "metadata": {},
   "outputs": [
    {
     "data": {
      "text/plain": [
       "8"
      ]
     },
     "execution_count": 622,
     "metadata": {},
     "output_type": "execute_result"
    }
   ],
   "source": [
    "data = list_of_lists\n",
    "len(data)"
   ]
  },
  {
   "cell_type": "code",
   "execution_count": 626,
   "metadata": {},
   "outputs": [],
   "source": [
    "# --- PART 3 ---\n",
    "\n",
    "def get_segmentation(list_of_lists):\n",
    "    \n",
    "    # get segments \n",
    "    segments = []\n",
    "\n",
    "    for subsegment in list_of_lists:\n",
    "        #print(series)\n",
    "        segments.append(segment.bottomupsegment(subsegment, fit.interpolate, fit.sumsquared_error, max_error))\n",
    "        \n",
    "    return segments"
   ]
  },
  {
   "cell_type": "code",
   "execution_count": 630,
   "metadata": {},
   "outputs": [
    {
     "name": "stderr",
     "output_type": "stream",
     "text": [
      "/Users/christopherkindl/working/nlp-dissertation/06_time_series_analysis/wrappers.py:10: FutureWarning: `rcond` parameter will change to the default of machine precision times ``max(M, N)`` where M and N are the input matrix dimensions.\n",
      "To use the future default and silence this warning we advise to pass `rcond=None`, to keep using the old, explicitly pass `rcond=-1`.\n",
      "  (p,residuals,rank,s) = lstsq(A,y)\n"
     ]
    },
    {
     "name": "stdout",
     "output_type": "stream",
     "text": [
      "117\n",
      "133\n",
      "287\n",
      "284\n",
      "294\n",
      "301\n",
      "318\n",
      "220\n"
     ]
    }
   ],
   "source": [
    "segments = get_segmentation(list_of_lists)"
   ]
  },
  {
   "cell_type": "code",
   "execution_count": 610,
   "metadata": {},
   "outputs": [
    {
     "data": {
      "text/plain": [
       "[[4.78, 4.77, 4.39, 3.84, 3.22, 3.16, 3.49],\n",
       " [3.48, 3.41, 3.63, 3.97, 3.98, 4.13, 4.38],\n",
       " [4.06, 4.04, 4.2, 4.26, 4.19, 4.11, 4.14],\n",
       " [4.07, 3.99, 4.18, 4.39, 4.25, 4.09, 3.92]]"
      ]
     },
     "execution_count": 610,
     "metadata": {},
     "output_type": "execute_result"
    }
   ],
   "source": [
    "data"
   ]
  },
  {
   "cell_type": "code",
   "execution_count": 709,
   "metadata": {},
   "outputs": [],
   "source": [
    "series = calc_slope(segments[2])"
   ]
  },
  {
   "cell_type": "code",
   "execution_count": 710,
   "metadata": {},
   "outputs": [
    {
     "data": {
      "text/plain": [
       "('constant',\n",
       " 70.16,\n",
       " 0.24,\n",
       " [3,\n",
       "  6,\n",
       "  7,\n",
       "  8,\n",
       "  10,\n",
       "  13,\n",
       "  14,\n",
       "  15,\n",
       "  16,\n",
       "  18,\n",
       "  19,\n",
       "  21,\n",
       "  22,\n",
       "  25,\n",
       "  26,\n",
       "  27,\n",
       "  28,\n",
       "  29,\n",
       "  30,\n",
       "  31,\n",
       "  32,\n",
       "  34,\n",
       "  37,\n",
       "  39,\n",
       "  41,\n",
       "  43,\n",
       "  46,\n",
       "  47,\n",
       "  48,\n",
       "  49,\n",
       "  50,\n",
       "  53,\n",
       "  54,\n",
       "  55,\n",
       "  57,\n",
       "  58,\n",
       "  59,\n",
       "  63,\n",
       "  68,\n",
       "  70,\n",
       "  72,\n",
       "  77,\n",
       "  79,\n",
       "  80,\n",
       "  82,\n",
       "  85,\n",
       "  88,\n",
       "  92,\n",
       "  93,\n",
       "  94,\n",
       "  95,\n",
       "  98,\n",
       "  99,\n",
       "  101,\n",
       "  102,\n",
       "  104,\n",
       "  107,\n",
       "  108,\n",
       "  112,\n",
       "  113,\n",
       "  114,\n",
       "  115,\n",
       "  116,\n",
       "  119,\n",
       "  121,\n",
       "  123,\n",
       "  126,\n",
       "  128,\n",
       "  130,\n",
       "  135,\n",
       "  136,\n",
       "  138,\n",
       "  142,\n",
       "  146,\n",
       "  150,\n",
       "  151,\n",
       "  156,\n",
       "  159,\n",
       "  162,\n",
       "  173,\n",
       "  175,\n",
       "  179,\n",
       "  183,\n",
       "  185,\n",
       "  187,\n",
       "  193,\n",
       "  195,\n",
       "  196,\n",
       "  197,\n",
       "  199,\n",
       "  202,\n",
       "  204,\n",
       "  205,\n",
       "  206,\n",
       "  207,\n",
       "  208,\n",
       "  209,\n",
       "  210,\n",
       "  211,\n",
       "  212,\n",
       "  219,\n",
       "  221,\n",
       "  222,\n",
       "  224,\n",
       "  229,\n",
       "  232,\n",
       "  233,\n",
       "  234,\n",
       "  235,\n",
       "  236,\n",
       "  237,\n",
       "  242,\n",
       "  247,\n",
       "  249,\n",
       "  251,\n",
       "  252,\n",
       "  254,\n",
       "  259,\n",
       "  262,\n",
       "  263,\n",
       "  266,\n",
       "  267,\n",
       "  269,\n",
       "  272,\n",
       "  275,\n",
       "  276,\n",
       "  277,\n",
       "  281,\n",
       "  285,\n",
       "  286],\n",
       " 'some of ')"
      ]
     },
     "execution_count": 710,
     "metadata": {},
     "output_type": "execute_result"
    }
   ],
   "source": [
    "fuzzy_slope(series)"
   ]
  },
  {
   "cell_type": "code",
   "execution_count": 782,
   "metadata": {},
   "outputs": [],
   "source": [
    "# --- PART 4 ---\n",
    "\n",
    "\n",
    "def subsegment_calculation(data, segments):\n",
    "    \"\"\"\n",
    "    1. Data = see output above\n",
    "    \"\"\"\n",
    "    \n",
    "    # ---------------\n",
    "    # LEVEL 1\n",
    "    # ---------------\n",
    "    \n",
    "    # calculate slope \n",
    "    subsegment_calculations_slope = []\n",
    "\n",
    "    for subsegment in segments:\n",
    "        subsegment_calculations_slope.append(calc_slope(subsegment))\n",
    "        \n",
    "    subsegment_variables_slope = []\n",
    "    filter_list = []\n",
    "    \n",
    "    for subsegment in subsegment_calculations_slope:\n",
    "        subsegment_variables_slope.append(fuzzy_slope(subsegment))\n",
    "        filter_list.append(fuzzy_slope(subsegment)[3])\n",
    "        \n",
    "        \n",
    "    # calculate duration\n",
    "    subsegment_calculations_duration = []\n",
    "    \n",
    "    for i in range(len(segments)):\n",
    "        subsegment_calculations_duration.append(calc_duration(segments[i], filter_list[i]))\n",
    "    \n",
    "    subsegment_variables_duration = []\n",
    "    \n",
    "    for subsegment in subsegment_calculations_duration:\n",
    "        subsegment_variables_duration.append(fuzzy_duration(subsegment))\n",
    "       \n",
    "        \n",
    "    # calculate variability\n",
    "    subsegment_calculations_variability = []\n",
    "    \n",
    "    for i in range(len(data)):\n",
    "        subsegment_calculations_variability.append(calc_variability(data[i], segments[i], filter_list[i]))\n",
    "    \n",
    "    subsegment_variables_variability = []\n",
    "\n",
    "    for subsegment in subsegment_calculations_variability:\n",
    "        subsegment_variables_variability.append(fuzzy_variability(subsegment))\n",
    "        \n",
    "    \n",
    "    # ---------------\n",
    "    # LEVEL 2\n",
    "    # ---------------\n",
    "    \n",
    "    # calculate slope\n",
    "    \n",
    "    subsegment_calculations_slope_L2 = []\n",
    "\n",
    "    for i in range(len(segments)):\n",
    "        subsegment_calculations_slope_L2.append(calc_slope_L2(segments[i], filter_list[i]))\n",
    "        \n",
    "    subsegment_variables_slope_L2 = []\n",
    "    \n",
    "    for i in range(len(segments)):\n",
    "    #for subsegment in subsegment_calculations_slope_L2:\n",
    "        if len(subsegment_calculations_slope_L2[i]) != 0:\n",
    "            #print(subsegment)\n",
    "            subsegment_variables_slope_L2.append(fuzzy_slope(subsegment_calculations_slope_L2[i]))\n",
    "            filter_list[i].append(fuzzy_slope(subsegment_calculations_slope_L2[i])[3])\n",
    "            \n",
    "            \n",
    "            \n",
    "    # calculate duration\n",
    "    \n",
    "    subsegment_calculations_duration_L2 = []\n",
    "    \n",
    "    for i in range(len(segments)):\n",
    "        subsegment_calculations_duration_L2.append(calc_duration_L2(segments[i], filter_list[i]))\n",
    "    \n",
    "    subsegment_variables_duration_L2 = []\n",
    "    \n",
    "    for subsegment in subsegment_calculations_slope_L2:\n",
    "        if len(subsegment) != 0:\n",
    "            subsegment_variables_duration_L2.append(fuzzy_duration(subsegment))\n",
    "            \n",
    "        \n",
    "    # calculate variability\n",
    "    subsegment_calculations_variability_L2 = []\n",
    "    \n",
    "    for i in range(len(data)):\n",
    "        subsegment_calculations_variability_L2.append(calc_variability_L2(data[i], segments[i], filter_list[i]))\n",
    "    \n",
    "    subsegment_variables_variability_L2 = []\n",
    "    \n",
    "    for subsegment in subsegment_calculations_variability_L2:\n",
    "        if len(subsegment) != 0:\n",
    "            subsegment_variables_variability_L2.append(fuzzy_variability(subsegment))\n",
    "    \n",
    "\n",
    "    # evaluate quantifier\n",
    "    quantifiers = []\n",
    "    values = []\n",
    "\n",
    "    for i in range(len(subsegment_calculations_slope_L2)):\n",
    "        values.append(round((len(subsegment_variables_slope_L2[i][3])/len(subsegment_calculations_slope[i])), 2))\n",
    "        quantifiers.append(quantifier(round((len(subsegment_variables_slope_L2[i][3])/len(subsegment_calculations_slope[i])), 2)))\n",
    "       \n",
    "\n",
    "    return subsegment_variables_slope, subsegment_variables_duration, subsegment_variables_variability, subsegment_variables_slope_L2, subsegment_variables_duration_L2, subsegment_variables_variability_L2, quantifiers"
   ]
  },
  {
   "cell_type": "code",
   "execution_count": 784,
   "metadata": {},
   "outputs": [],
   "source": [
    "subsegment_calculations = subsegment_calculation(data, segments)"
   ]
  },
  {
   "cell_type": "code",
   "execution_count": 785,
   "metadata": {},
   "outputs": [
    {
     "data": {
      "text/plain": [
       "['some of ',\n",
       " 'some of ',\n",
       " 'some of ',\n",
       " 'some of ',\n",
       " 'some of ',\n",
       " 'at least a third of ',\n",
       " 'some of ',\n",
       " 'at least a third of ']"
      ]
     },
     "execution_count": 785,
     "metadata": {},
     "output_type": "execute_result"
    }
   ],
   "source": [
    "subsegment_calculations[6]"
   ]
  },
  {
   "cell_type": "code",
   "execution_count": 755,
   "metadata": {},
   "outputs": [
    {
     "data": {
      "text/plain": [
       "[0.01, 0.04, 0.24, 0.24, 0.26, 0.3, 0.21, 0.45]"
      ]
     },
     "execution_count": 755,
     "metadata": {},
     "output_type": "execute_result"
    }
   ],
   "source": [
    "subsegment_calculation(data, segments)[10]"
   ]
  },
  {
   "cell_type": "code",
   "execution_count": 772,
   "metadata": {},
   "outputs": [],
   "source": [
    "subsegment_calculations = subsegment_calculation(data, segments)"
   ]
  },
  {
   "cell_type": "code",
   "execution_count": null,
   "metadata": {},
   "outputs": [],
   "source": [
    "def calc_slope_L2(segments, filtering):\n",
    "    '''\n",
    "    1. Input segment series.\n",
    "    2. Return angle of slope.\n",
    "    '''\n",
    "    slope_series = []\n",
    "    for i in range(len(segments)):\n",
    "        if i not in filtering:\n",
    "            x0, y0, x1, y1 = segments[i]\n",
    "            angle = round((np.rad2deg(np.arctan2(y1 - y0, x1 - x0))), 2)\n",
    "            slope_series.append(angle)\n",
    "        \n",
    "    return slope_series"
   ]
  },
  {
   "cell_type": "code",
   "execution_count": 204,
   "metadata": {},
   "outputs": [],
   "source": [
    "# --- PART PREPROCESSING ---\n",
    "\n",
    "def date_assignment(tuple_series):\n",
    "    \n",
    "    dates = []\n",
    "\n",
    "    for i in range(len(tuple_series)):\n",
    "        dates.append([tuple_series[i][0][0], tuple_series[i][-1][0]])\n",
    "    \n",
    "    return dates"
   ]
  },
  {
   "cell_type": "code",
   "execution_count": 790,
   "metadata": {},
   "outputs": [
    {
     "data": {
      "text/plain": [
       "(['between 2010-06-29 00:00:00 and 2011-12-06 00:00:00, almost all of trends are constant. constant trends tend to be very short and of a very low variability during that period.',\n",
       "  'between 2011-12-07 00:00:00 and 2013-05-22 00:00:00, almost all of trends are constant. constant trends tend to be very short and of a very low variability during that period.',\n",
       "  'between 2013-05-23 00:00:00 and 2014-10-31 00:00:00, at least a third of trends are constant. constant trends tend to be very short and of a very low variability during that period.',\n",
       "  'between 2014-11-03 00:00:00 and 2016-04-15 00:00:00, at least a half of trends are constant. constant trends tend to be very short and of a very low variability during that period.'],\n",
       " {0: 'some of trends are slowly increasing.',\n",
       "  1: 'some of trends are slowly decreasing.',\n",
       "  2: 'some of trends are decreasing.',\n",
       "  3: 'some of trends are increasing.',\n",
       "  4: 'some of trends are increasing.',\n",
       "  5: 'at least a third of trends are increasing.',\n",
       "  6: 'some of trends are quickly decreasing.',\n",
       "  7: 'at least a third of trends are quickly decreasing.'},\n",
       " {0: 'slowly increasing trends tend to be very short and of a very low variability',\n",
       "  1: 'slowly decreasing trends tend to be medium and of a very low variability',\n",
       "  2: 'decreasing trends tend to be very short and of a very low variability',\n",
       "  3: 'increasing trends tend to be very short and of a very low variability',\n",
       "  4: 'increasing trends tend to be very short and of a very low variability',\n",
       "  5: 'increasing trends tend to be very short and of a very low variability',\n",
       "  6: 'quickly decreasing trends tend to be very short and of a very low variability',\n",
       "  7: 'quickly decreasing trends tend to be very short and of a very low variability'})"
      ]
     },
     "execution_count": 790,
     "metadata": {},
     "output_type": "execute_result"
    }
   ],
   "source": [
    "nlg(tuple_series, subsegment_calculations)"
   ]
  },
  {
   "cell_type": "code",
   "execution_count": 789,
   "metadata": {},
   "outputs": [],
   "source": [
    "# --- PART 5 ---\n",
    "\n",
    "def nlg(tuple_series, subsegment_calculations):\n",
    "    \n",
    "    # -----------------\n",
    "    # Level 1\n",
    "    # -----------------\n",
    "    \n",
    "    temp_sentences = []\n",
    "\n",
    "    for dates in date_assignment(tuple_series)[:4]:\n",
    "         # add customdate format\n",
    "         temp_sentences.append('between ' + str(dates[0]) + ' and ' + str(dates[1]))\n",
    "\n",
    "    sentences = [] \n",
    "\n",
    "    for i in range(len(temp_sentences)): \n",
    "        sentences.append(temp_sentences[i] + ', ' + subsegment_calculations[0][i][4] + 'trends are ' + subsegment_calculations[0][i][0] + '.')\n",
    "\n",
    "    extended_sentences = []\n",
    "    \n",
    "    for i in range(len(temp_sentences)):\n",
    "        extended_sentences.append((subsegment_calculations[0][i][0] + ' trends tend to be ' + subsegment_calculations[1][i][0] + ' and of a ' + subsegment_calculations[2][i][0] + ' variability'))\n",
    "\n",
    "    final_sentences = []\n",
    "    \n",
    "    for i in range(len(temp_sentences)):\n",
    "        final_sentences.append(sentences[i] + ' ' + extended_sentences[i] + ' during that period.')\n",
    "        \n",
    "    \n",
    "    # -----------------\n",
    "    # Level 2\n",
    "    # -----------------\n",
    "    \n",
    "    temp_sentences_L2 = {}\n",
    "    extended_sentences_L2 = {}\n",
    "    \n",
    "    if len(subsegment_calculations[3]) != 0:\n",
    "        \n",
    "        for i in range(len(subsegment_calculations[3])):\n",
    "            if len(subsegment_calculations[3][i]) != 0:\n",
    "                temp_sentences_L2.update({i:subsegment_calculations[6][i] + 'trends are ' + subsegment_calculations[3][i][0] + '.'})\n",
    "    \n",
    "        for i in range(len(subsegment_calculations[4])):\n",
    "            if len(subsegment_calculations[4][i]) != 0:\n",
    "                extended_sentences_L2.update({i:subsegment_calculations[3][i][0] + ' trends tend to be ' + subsegment_calculations[4][i][0] + ' and of a ' + subsegment_calculations[5][i][0] + ' variability'})\n",
    "    \n",
    "    #final_output = merge_sentences(final_sentences, temp_sentences_L2)\n",
    "    \n",
    "    # -----------------\n",
    "    # Level 3\n",
    "    # -----------------\n",
    "        \n",
    "\n",
    "    return final_sentences, temp_sentences_L2, extended_sentences_L2 #final_output"
   ]
  },
  {
   "cell_type": "code",
   "execution_count": 639,
   "metadata": {},
   "outputs": [],
   "source": [
    "# --- PART PREPROCESSING ---\n",
    "def merge_sentences(sentence_list, sentence_dict):\n",
    "    for i in sentence_dict.keys():\n",
    "        sentence_list[i] = sentence_list[i] + ' ' + sentence_dict[i] + '.'\n",
    "    return sentence_list"
   ]
  },
  {
   "cell_type": "code",
   "execution_count": null,
   "metadata": {},
   "outputs": [],
   "source": [
    "sentence_dict = \n",
    "for i in sentence_dict.keys():"
   ]
  },
  {
   "cell_type": "code",
   "execution_count": 593,
   "metadata": {},
   "outputs": [
    {
     "data": {
      "text/plain": [
       "['between 2010-06-29 and 2010-07-08, almost all of trends are constant. constant trends tend to be very short and of a very low variability during that period.',\n",
       " 'between 2010-07-09 and 2010-07-19, almost all of trends are constant. constant trends tend to be very short and of a very low variability during that period.',\n",
       " 'between 2010-07-20 and 2010-07-28, almost all of trends are constant. constant trends tend to be very short and of a very low variability during that period.',\n",
       " 'between 2010-07-29 and 2010-08-06, almost all of trends are constant. constant trends tend to be very short and of a very low variability during that period.']"
      ]
     },
     "execution_count": 593,
     "metadata": {},
     "output_type": "execute_result"
    }
   ],
   "source": [
    "nlg(tuple_series, subsegment_calculations)"
   ]
  },
  {
   "cell_type": "code",
   "execution_count": 601,
   "metadata": {},
   "outputs": [],
   "source": [
    "# --- PART PREPROCESSING ---\n",
    "\n",
    "def columns_to_tuples(column1, column2):\n",
    "    tuple_series = list(zip(column1, round(column2, 2)))\n",
    "    return tuple_series"
   ]
  },
  {
   "cell_type": "code",
   "execution_count": null,
   "metadata": {},
   "outputs": [],
   "source": [
    "def error_level():\n",
    "    \n",
    "    # TBD\n",
    "    \n",
    "    return max_error"
   ]
  }
 ],
 "metadata": {
  "kernelspec": {
   "display_name": "Python 3",
   "language": "python",
   "name": "python3"
  },
  "language_info": {
   "codemirror_mode": {
    "name": "ipython",
    "version": 3
   },
   "file_extension": ".py",
   "mimetype": "text/x-python",
   "name": "python",
   "nbconvert_exporter": "python",
   "pygments_lexer": "ipython3",
   "version": "3.8.3"
  }
 },
 "nbformat": 4,
 "nbformat_minor": 4
}
