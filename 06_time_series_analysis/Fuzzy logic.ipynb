{
 "cells": [
  {
   "cell_type": "code",
   "execution_count": 47,
   "metadata": {},
   "outputs": [],
   "source": [
    "import yfinance as yf\n",
    "import segment\n",
    "import fit\n",
    "from scipy.stats import linregress, iqr\n",
    "import numpy as np\n",
    "import pandas as pd\n",
    "import fuzzylogic"
   ]
  },
  {
   "cell_type": "code",
   "execution_count": 1,
   "metadata": {},
   "outputs": [],
   "source": [
    "import zadeh"
   ]
  },
  {
   "cell_type": "code",
   "execution_count": 49,
   "metadata": {},
   "outputs": [],
   "source": [
    "from matplotlib import pyplot\n",
    "from fuzzylogic.classes import Domain\n",
    "from fuzzylogic.functions import R, S, alpha"
   ]
  },
  {
   "cell_type": "code",
   "execution_count": 56,
   "metadata": {},
   "outputs": [],
   "source": [
    "from fuzzylogic.classes import Domain\n",
    "from fuzzylogic.functions import alpha, triangular, bounded_linear, trapezoid\n",
    "from fuzzylogic.hedges import plus, minus, very"
   ]
  },
  {
   "cell_type": "markdown",
   "metadata": {},
   "source": [
    "## Fuzzy Slope"
   ]
  },
  {
   "cell_type": "code",
   "execution_count": 75,
   "metadata": {},
   "outputs": [],
   "source": [
    "slope = Domain(\"slope\", -90, 90, res=0.01)"
   ]
  },
  {
   "cell_type": "code",
   "execution_count": 76,
   "metadata": {},
   "outputs": [],
   "source": [
    "slope.quickly_decreasing = S(-90+11.25, -90+32.5)\n",
    "slope.decreasing = triangular(-77.5, -35)\n",
    "slope.slowly_decreasing = triangular(-55, -12.5)\n",
    "slope.constant = triangular(-32.5, 32.5)\n",
    "slope.slowly_increasing = triangular(12.5, 55)\n",
    "slope.increasing = triangular(35, 77.5)\n",
    "slope.quickly_increasing = R(90-32.5, 90-11.25)"
   ]
  },
  {
   "cell_type": "code",
   "execution_count": 77,
   "metadata": {},
   "outputs": [
    {
     "data": {
      "image/png": "[encoded data removed]",
      "text/plain": [
       "<Figure size 432x288 with 1 Axes>"
      ]
     },
     "metadata": {
      "needs_background": "light"
     },
     "output_type": "display_data"
    }
   ],
   "source": [
    "slope.quickly_decreasing.plot()\n",
    "slope.decreasing.plot()\n",
    "slope.slowly_decreasing.plot()\n",
    "slope.quickly_increasing.plot()\n",
    "slope.increasing.plot()\n",
    "slope.slowly_increasing.plot()\n",
    "slope.constant.plot()"
   ]
  },
  {
   "cell_type": "code",
   "execution_count": 133,
   "metadata": {},
   "outputs": [],
   "source": [
    "series = [i for i in range(90)]\n",
    "length = len(series)"
   ]
  },
  {
   "cell_type": "code",
   "execution_count": 80,
   "metadata": {},
   "outputs": [],
   "source": [
    "def fuzzy_slope(series):\n",
    "    \n",
    "    total_sum = {'quickly decreasing' : [],\n",
    "                 'decreasing' : [],\n",
    "                 'slowly decreasing' : [],\n",
    "                 'constant' : [],\n",
    "                 'slowly increasing' : [],\n",
    "                 'increasing' : [],\n",
    "                 'quickly increasing' : []}\n",
    "    \n",
    "    indexes = {'quickly decreasing' : [],\n",
    "               'decreasing' : [],\n",
    "               'slowly decreasing' : [],\n",
    "               'constant' : [],\n",
    "               'slowly increasing' : [],\n",
    "               'increasing' : [],\n",
    "               'quickly increasing' : []}\n",
    "\n",
    "    for index, i in enumerate(series):\n",
    "        total_sum['quickly decreasing'].append(round(slope.quickly_decreasing(i), 2))\n",
    "        if round(slope.quickly_decreasing(i), 2) > 0:\n",
    "            indexes['quickly decreasing'].append(index)\n",
    "            \n",
    "        total_sum['decreasing'].append(round(slope.decreasing(i), 2))\n",
    "        if round(slope.decreasing(i), 2) > 0:\n",
    "            indexes['decreasing'].append(index)\n",
    "        \n",
    "        total_sum['slowly decreasing'].append(round(slope.slowly_decreasing(i), 2))\n",
    "        if round(slope.slowly_decreasing(i), 2) > 0:\n",
    "            indexes['slowly decreasing'].append(index)\n",
    "        \n",
    "        total_sum['constant'].append(round(slope.constant(i), 2))\n",
    "        if round(slope.constant(i), 2) > 0:\n",
    "            indexes['constant'].append(index)\n",
    "            \n",
    "        total_sum['slowly increasing'].append(round(slope.slowly_increasing(i), 2))\n",
    "        if round(slope.slowly_increasing(i), 2) > 0:\n",
    "            indexes['slowly increasing'].append(index)\n",
    "            \n",
    "        total_sum['increasing'].append(round(slope.increasing(i), 2))\n",
    "        if round(slope.increasing(i), 2) > 0:\n",
    "            indexes['increasing'].append(index)\n",
    "            \n",
    "        total_sum['quickly increasing'].append(round(slope.quickly_increasing(i), 2))\n",
    "        if round(slope.quickly_increasing(i), 2) > 0:\n",
    "            indexes['quickly increasing'].append(index)\n",
    "        \n",
    "    number_of_segments = len(series)\n",
    "    \n",
    "    n = 0\n",
    "    \n",
    "    for i in total_sum.get(max(total_sum, key = lambda x: sum(total_sum.get(x)))):\n",
    "        if i != 0:\n",
    "            n += 1\n",
    "    \n",
    "    return max(total_sum, key = lambda x: sum(total_sum.get(x))), round(sum(total_sum.get(max(total_sum, key = lambda x: sum(total_sum.get(x))))), 2), round((n/number_of_segments), 2), indexes.get(max(total_sum, key = lambda x: sum(total_sum.get(x))))"
   ]
  },
  {
   "cell_type": "code",
   "execution_count": 86,
   "metadata": {},
   "outputs": [
    {
     "data": {
      "text/plain": [
       "('constant', 5.64, 1.0, [0, 1, 2, 3, 4, 5])"
      ]
     },
     "execution_count": 86,
     "metadata": {},
     "output_type": "execute_result"
    }
   ],
   "source": [
    "fuzzy_slope(series)"
   ]
  },
  {
   "cell_type": "code",
   "execution_count": 71,
   "metadata": {},
   "outputs": [],
   "source": [
    "indexes = {'quickly decreasing' : [],\n",
    "           'decreasing' : [],\n",
    "           'slowly decreasing' : [],\n",
    "           'constant' : [],\n",
    "           'slowly increasing' : [],\n",
    "           'increasing' : [],\n",
    "           'quickly increasing' : []}"
   ]
  },
  {
   "cell_type": "code",
   "execution_count": 81,
   "metadata": {},
   "outputs": [
    {
     "data": {
      "text/plain": [
       "{'quickly decreasing': [],\n",
       " 'decreasing': [],\n",
       " 'slowly decreasing': [],\n",
       " 'constant': [],\n",
       " 'slowly increasing': [],\n",
       " 'increasing': [],\n",
       " 'quickly increasing': [2, 2, 2, 2]}"
      ]
     },
     "execution_count": 81,
     "metadata": {},
     "output_type": "execute_result"
    }
   ],
   "source": [
    "indexes['quickly increasing'].append(2)\n",
    "indexes"
   ]
  },
  {
   "cell_type": "code",
   "execution_count": 79,
   "metadata": {},
   "outputs": [
    {
     "data": {
      "text/plain": [
       "[1, 2, 3, 1, 2, 3]"
      ]
     },
     "execution_count": 79,
     "metadata": {},
     "output_type": "execute_result"
    }
   ],
   "source": [
    "series"
   ]
  },
  {
   "cell_type": "code",
   "execution_count": 84,
   "metadata": {},
   "outputs": [],
   "source": [
    "filtering = fuzzy_slope(series)[3]"
   ]
  },
  {
   "cell_type": "markdown",
   "metadata": {},
   "source": [
    "## Fuzzy Duration"
   ]
  },
  {
   "cell_type": "code",
   "execution_count": null,
   "metadata": {},
   "outputs": [],
   "source": [
    "'very long' : [],\n",
    "'long' : [],\n",
    "'medium' : [],\n",
    "'short' : [],\n",
    "'very short' : []\n",
    "}"
   ]
  },
  {
   "cell_type": "code",
   "execution_count": 62,
   "metadata": {
    "scrolled": true
   },
   "outputs": [
    {
     "data": {
      "image/png": "[encoded data removed]",
      "text/plain": [
       "<Figure size 432x288 with 1 Axes>"
      ]
     },
     "metadata": {
      "needs_background": "light"
     },
     "output_type": "display_data"
    }
   ],
   "source": [
    "duration = Domain(\"duration\", 0, 180, res=0.01)\n",
    "duration.very_short = S(0+7, 0+14)\n",
    "duration.short = trapezoid(7, 14, 35, 42)\n",
    "duration.medium = trapezoid(35, 42, 42+21, 42+28)\n",
    "duration.long = trapezoid(63, 70, 70+21, 70+28)\n",
    "duration.very_long = R(91, 98)\n",
    "duration.very_short.plot()\n",
    "duration.short.plot()\n",
    "duration.medium.plot()\n",
    "duration.long.plot()\n",
    "duration.very_long.plot()"
   ]
  },
  {
   "cell_type": "code",
   "execution_count": 93,
   "metadata": {},
   "outputs": [],
   "source": [
    "def fuzzy_duration(series):\n",
    "    \n",
    "    total_sum = {'very short' : [],\n",
    "                 'short' : [],\n",
    "                 'medium' : [],\n",
    "                 'long' : [],\n",
    "                 'very long' : []}\n",
    "\n",
    "    for i in series:\n",
    "        total_sum['very short'].append(round(duration.very_short(i), 2))\n",
    "        total_sum['short'].append(round(duration.short(i), 2))\n",
    "        total_sum['medium'].append(round(duration.medium(i), 2))\n",
    "        total_sum['long'].append(round(duration.long(i), 2))\n",
    "        total_sum['very long'].append(round(duration.very_long(i), 2))\n",
    "        \n",
    "        \n",
    "    number_of_segments = len(series)\n",
    "    \n",
    "    n = 0\n",
    "    \n",
    "    for i in total_sum.get(max(total_sum, key = lambda x: sum(total_sum.get(x)))):\n",
    "        if i != 0:\n",
    "            n += 1\n",
    "    \n",
    "    return max(total_sum, key = lambda x: sum(total_sum.get(x))), sum(total_sum.get(max(total_sum, key = lambda x: sum(total_sum.get(x)))))"
   ]
  },
  {
   "cell_type": "code",
   "execution_count": 66,
   "metadata": {},
   "outputs": [
    {
     "data": {
      "text/plain": [
       "[1, 2, 3, 1, 2, 3]"
      ]
     },
     "execution_count": 66,
     "metadata": {},
     "output_type": "execute_result"
    }
   ],
   "source": [
    "series"
   ]
  },
  {
   "cell_type": "code",
   "execution_count": 65,
   "metadata": {},
   "outputs": [
    {
     "data": {
      "text/plain": [
       "('very_short', 6, 1.0)"
      ]
     },
     "execution_count": 65,
     "metadata": {},
     "output_type": "execute_result"
    }
   ],
   "source": [
    "fuzzy_duration(series)[]"
   ]
  },
  {
   "cell_type": "code",
   "execution_count": 179,
   "metadata": {
    "scrolled": true
   },
   "outputs": [
    {
     "data": {
      "text/plain": [
       "'quickly increasing'"
      ]
     },
     "execution_count": 179,
     "metadata": {},
     "output_type": "execute_result"
    }
   ],
   "source": [
    "fuzzy_slope(series)[0]"
   ]
  },
  {
   "cell_type": "code",
   "execution_count": 180,
   "metadata": {},
   "outputs": [],
   "source": [
    "def quantifier(value):\n",
    "    \n",
    "    quantifier = {\n",
    "    'Almost all of ' : 0,\n",
    "    'Most of ' : 0,\n",
    "    'At least a half of ' : 0,\n",
    "    'Some of ' : 0,\n",
    "    'None of ' : 0\n",
    "    }\n",
    "\n",
    "    if value > 0.85:\n",
    "        quantifier['Almost all of '] += 1\n",
    "    if value > 0.7:\n",
    "        quantifier['Most of '] += 1\n",
    "    if value > 0.5:\n",
    "        quantifier['At least a half of '] += 1\n",
    "    if value > 0:\n",
    "        quantifier['Some of '] += 1\n",
    "    if value == 0:\n",
    "        quantifier['None of '] += 1\n",
    "\n",
    "    quantifier = max(quantifier, key = quantifier.get)\n",
    "\n",
    "    return quantifier "
   ]
  },
  {
   "cell_type": "code",
   "execution_count": 20,
   "metadata": {},
   "outputs": [],
   "source": [
    "def summary_fuzzy(series, fuzzy_func, quantifier):\n",
    "    \n",
    "    elementA0 = '{{quantifier_related_to_first_variable}}'\n",
    "    elementA1 = 'trends are '\n",
    "    elementA2 = '{{slope_variable}}'\n",
    "    elementA3 = '.'\n",
    "    \n",
    "    fuzzy = fuzzy_func(series)[2]\n",
    "    elementA0 = quantifier(fuzzy)\n",
    "    elementA2 = fuzzy_func(series)[0]\n",
    "    \n",
    "    sentence = elementA0 + elementA1 + elementA2 + elementA3\n",
    "    \n",
    "    return sentence"
   ]
  },
  {
   "cell_type": "code",
   "execution_count": 5,
   "metadata": {},
   "outputs": [],
   "source": [
    "def preprocessing(stock_name='TSLA', period='max'):\n",
    "    \n",
    "    '''\n",
    "    1. Input stock name.\n",
    "    2. Return historical prices and currency of stock.\n",
    "    '''\n",
    "\n",
    "    # get stock data\n",
    "    hist = yf.Ticker(stock_name)\n",
    "\n",
    "    # get historical market data\n",
    "    df = hist.history(period)\n",
    "    \n",
    "    currency = hist.info['currency']\n",
    "\n",
    "    series = list(round(df['Open'], 2))\n",
    "\n",
    "    return series, currency, df"
   ]
  },
  {
   "cell_type": "code",
   "execution_count": 18,
   "metadata": {},
   "outputs": [],
   "source": [
    "def suffix(d):\n",
    "    return 'th' if 11<=d<=13 else {1:'st',2:'nd',3:'rd'}.get(d%10, 'th')\n",
    "\n",
    "def custom_strftime(t):\n",
    "    \n",
    "    format = '%B {S} %Y'\n",
    "    string_date = t.strftime(format).replace('{S}', str(t.day) + suffix(t.day))\n",
    "    \n",
    "    return string_date"
   ]
  },
  {
   "cell_type": "code",
   "execution_count": 7,
   "metadata": {},
   "outputs": [],
   "source": [
    "def max_price(df):\n",
    "    \n",
    "    max_value = 0 \n",
    "    index = None\n",
    "    \n",
    "\n",
    "    for i, value in enumerate(df['Open']):\n",
    "        if value > max_value:\n",
    "            max_value = round(value, 2)\n",
    "            index = df.Open.index[i].date()\n",
    "            string_date = custom_strftime(index)\n",
    "\n",
    "    return max_value, string_date"
   ]
  },
  {
   "cell_type": "code",
   "execution_count": 8,
   "metadata": {},
   "outputs": [],
   "source": [
    "def min_price(df):\n",
    "    \n",
    "    min_value = 999999 \n",
    "    index = 0\n",
    "\n",
    "    for i, value in enumerate(df['Open']):\n",
    "        if value < min_value:\n",
    "            min_value = round(value, 2)\n",
    "            index = df.Open.index[i].date()\n",
    "            string_date = custom_strftime(index)\n",
    "\n",
    "    return min_value, string_date"
   ]
  },
  {
   "cell_type": "code",
   "execution_count": 9,
   "metadata": {},
   "outputs": [],
   "source": [
    "def min_date(df):\n",
    "    \n",
    "    date = custom_strftime(df.index.min())\n",
    "\n",
    "    return date"
   ]
  },
  {
   "cell_type": "code",
   "execution_count": 10,
   "metadata": {},
   "outputs": [],
   "source": [
    "def max_date(df):\n",
    "    \n",
    "    date = custom_strftime(df.index.max())\n",
    "\n",
    "    return date"
   ]
  },
  {
   "cell_type": "code",
   "execution_count": 11,
   "metadata": {},
   "outputs": [],
   "source": [
    "def summary_price(df):\n",
    "    \n",
    "    opening = 'During the time period of '\n",
    "    mindate = min_date(df)\n",
    "    maxdate = max_date(df)\n",
    "    glue = ' and '\n",
    "    date_element = ' the stock price peaked at '\n",
    "    max_value = max_price(df)[0]\n",
    "    glue_2 = ' on '\n",
    "    date_1 = max_price(df)[1]\n",
    "    glue_3 = ' and hit its lowest value of '\n",
    "    min_value = min_price(df)[0]\n",
    "    glue_4 = ' on '\n",
    "    date_2 = min_price(df)[1]\n",
    "    eos = '.'\n",
    "    \n",
    "    sentence0 = opening + mindate + glue + maxdate + date_element + str(max_value) + glue_2 + date_1 + glue_3 \\\n",
    "                + str(min_value) + glue_4 + date_2 + eos\n",
    "    \n",
    "    return sentence0"
   ]
  },
  {
   "cell_type": "code",
   "execution_count": 15,
   "metadata": {},
   "outputs": [
    {
     "data": {
      "text/plain": [
       "Timestamp('2020-01-02 00:00:00')"
      ]
     },
     "execution_count": 15,
     "metadata": {},
     "output_type": "execute_result"
    }
   ],
   "source": [
    "data = yf.Ticker('TSLA')\n",
    "tickerDF = data.history(interval = '1d', start = '2020-01-01', end = '2021-01-01')\n",
    "tickerDF.index.min()"
   ]
  },
  {
   "cell_type": "code",
   "execution_count": 19,
   "metadata": {},
   "outputs": [
    {
     "data": {
      "text/plain": [
       "'During the time period of January 2nd 2020 and December 31st 2020 the stock price peaked at 699.99 on December 31st 2020 and hit its lowest value of 74.94 on March 19th 2020.'"
      ]
     },
     "execution_count": 19,
     "metadata": {},
     "output_type": "execute_result"
    }
   ],
   "source": [
    "summary_price(tickerDF)"
   ]
  },
  {
   "cell_type": "markdown",
   "metadata": {},
   "source": [
    "## Level 2"
   ]
  },
  {
   "cell_type": "code",
   "execution_count": 31,
   "metadata": {},
   "outputs": [],
   "source": [
    "start_date = '2010-06-30'\n",
    "end_date = '2021-06-17'\n",
    "max_error = 100\n",
    "\n",
    "def segment_detection(df, start_date, end_date, max_error):\n",
    "    \n",
    "    start = df.index.get_loc(start_date)\n",
    "    end = df.index.get_loc(end_date)\n",
    "    data = list(round(df.Close, 2))\n",
    "    segments = segment.bottomupsegment(data[start:end], fit.interpolate, fit.sumsquared_error, max_error)\n",
    "    \n",
    "    return segments, data[start:end]"
   ]
  },
  {
   "cell_type": "code",
   "execution_count": 32,
   "metadata": {},
   "outputs": [
    {
     "name": "stdout",
     "output_type": "stream",
     "text": [
      "168\n"
     ]
    }
   ],
   "source": [
    "segments, data = segment_detection(df, start_date, end_date, max_error)"
   ]
  },
  {
   "cell_type": "code",
   "execution_count": 83,
   "metadata": {},
   "outputs": [],
   "source": [
    "def duration(series, filtering):\n",
    "    '''\n",
    "    1. Input segment series.\n",
    "    2. Return segment-specific duration.\n",
    "    '''\n",
    "    duration_series = []\n",
    "    for segment in series:\n",
    "        if segment not in filtering:\n",
    "            start, _, end, _ = segment\n",
    "            length = end-start\n",
    "            duration_series.append(length)\n",
    "    return duration_series"
   ]
  },
  {
   "cell_type": "code",
   "execution_count": 85,
   "metadata": {},
   "outputs": [
    {
     "data": {
      "text/plain": [
       "[]"
      ]
     },
     "execution_count": 85,
     "metadata": {},
     "output_type": "execute_result"
    }
   ],
   "source": [
    "duration(series, filtering)"
   ]
  },
  {
   "cell_type": "code",
   "execution_count": 22,
   "metadata": {},
   "outputs": [],
   "source": [
    "# calculate variability\n",
    "def variability(data, segments, filtering):\n",
    "    '''\n",
    "    1. Input value range as array.\n",
    "    2. Return interquartile range.\n",
    "    '''\n",
    "    variability_series = []\n",
    "    for segment in segments:\n",
    "        if segment not in filtering:\n",
    "            start, _, end, _ = segment\n",
    "            x = np.array(data[start:end+1])\n",
    "            segment_iqr = round(iqr(x), 4)\n",
    "            variability_series.append(segment_iqr)\n",
    "    return variability_series"
   ]
  },
  {
   "cell_type": "code",
   "execution_count": 97,
   "metadata": {},
   "outputs": [],
   "source": [
    "def summary_L2(func_L1, func_L2, func_L3, series):\n",
    "    \n",
    "    filtered_series = func_L1(series)[3]\n",
    "    \n",
    "    element1 = func_L1(series)[0]\n",
    "    element2 = ' trends are '\n",
    "    element3 = 'VARIABLE1'\n",
    "    element4 = ' and '\n",
    "    element5 = 'VARIABLE2'\n",
    "    eos = '.'\n",
    "    \n",
    "    series_preprocessed = func_L2(series, filtered_series)\n",
    "    element3 = func_L3(series_preprocessed)[0]\n",
    "    \n",
    "    sentence = element1 + element2 + element3 + eos\n",
    "    \n",
    "    return sentence"
   ]
  },
  {
   "cell_type": "code",
   "execution_count": 98,
   "metadata": {},
   "outputs": [
    {
     "data": {
      "text/plain": [
       "'constant trends are very short.'"
      ]
     },
     "execution_count": 98,
     "metadata": {},
     "output_type": "execute_result"
    }
   ],
   "source": [
    "summary_L2(fuzzy_slope, duration, fuzzy_duration, series)"
   ]
  },
  {
   "cell_type": "code",
   "execution_count": 35,
   "metadata": {},
   "outputs": [],
   "source": [
    "def max_duration(series):\n",
    "    \n",
    "    dict_duration = {\n",
    "    'very long' : [],\n",
    "    'long' : [],\n",
    "    'medium' : [],\n",
    "    'short' : [],\n",
    "    'very short' : []\n",
    "    }\n",
    "    \n",
    "    for i, segment in enumerate(series):\n",
    "        if segment <= np.quantile(series, 1/5):\n",
    "            dict_duration['very short'].append(i)\n",
    "        if segment > np.quantile(series, 1/5) and segment <= np.quantile(series, 2/5):\n",
    "            dict_duration['short'].append(i)\n",
    "        if segment > np.quantile(series, 2/5) and segment <= np.quantile(series, 3/5):\n",
    "            dict_duration['medium'].append(i)\n",
    "        if segment > np.quantile(series, 3/5) and segment <= np.quantile(series, 4/5):\n",
    "            dict_duration['long'].append(i)\n",
    "        if segment > np.quantile(series, 4/5):\n",
    "            dict_duration['very long'].append(i)\n",
    "            \n",
    "    return max(dict_duration, key = lambda x: len(dict_duration.get(x))), dict_duration"
   ]
  },
  {
   "cell_type": "code",
   "execution_count": 44,
   "metadata": {},
   "outputs": [],
   "source": [
    "series = [1, 2, 3, 1, 2, 3]"
   ]
  },
  {
   "cell_type": "code",
   "execution_count": 45,
   "metadata": {},
   "outputs": [
    {
     "data": {
      "text/plain": [
       "('long',\n",
       " {'very long': [],\n",
       "  'long': [2, 5],\n",
       "  'medium': [],\n",
       "  'short': [1, 4],\n",
       "  'very short': [0, 3]})"
      ]
     },
     "execution_count": 45,
     "metadata": {},
     "output_type": "execute_result"
    }
   ],
   "source": [
    "max_duration(series)"
   ]
  },
  {
   "cell_type": "code",
   "execution_count": null,
   "metadata": {},
   "outputs": [],
   "source": [
    "series_A = [1, 2, 3, 4,   5,   1,   2,  3, 4, 5, 1, 2]\n",
    "series_B = [1, 1, 1, 1, 100, 100, 100, 12, 1, 1, 1, 1]"
   ]
  }
 ],
 "metadata": {
  "kernelspec": {
   "display_name": "Python 3",
   "language": "python",
   "name": "python3"
  },
  "language_info": {
   "codemirror_mode": {
    "name": "ipython",
    "version": 3
   },
   "file_extension": ".py",
   "mimetype": "text/x-python",
   "name": "python",
   "nbconvert_exporter": "python",
   "pygments_lexer": "ipython3",
   "version": "3.8.3"
  }
 },
 "nbformat": 4,
 "nbformat_minor": 4
}
